{
 "cells": [
  {
   "cell_type": "markdown",
   "metadata": {},
   "source": [
    "# Introdução "
   ]
  },
  {
   "cell_type": "markdown",
   "metadata": {},
   "source": [
    "Este notebook contempla o segundo projeto do curso de Data Science 1 da Udacity, e tem o objetivo didático de explorar dados de passageiros e tripulantes do Titanic com o foco na descoberta de fatos relevantes que os dados possam revelar e sua relação com a tragédia. Os dados foram baixados da plataforma da Udacity e foram retirados do [site do Kaggle](https://www.kaggle.com/c/titanic/data). \n",
    "\n",
    "**Autor**:  Luan Gabriel Silva Fernandes \n",
    "\n",
    "**Email**:  luangabriel70@gmail.com\n",
    "\n",
    "**Github com este trabalho** : [repositório de lgabs](https://github.com/lgabs/udacity-titanic)"
   ]
  },
  {
   "cell_type": "markdown",
   "metadata": {},
   "source": [
    "# 1. Visão Geral dos Dados"
   ]
  },
  {
   "cell_type": "raw",
   "metadata": {},
   "source": [
    "Importando pacotes necessários para nossa análise e lendo o conjunto de dados em `titanic-data-6.csv`:"
   ]
  },
  {
   "cell_type": "code",
   "execution_count": 1,
   "metadata": {
    "collapsed": true
   },
   "outputs": [],
   "source": [
    "import pandas as pd\n",
    "import numpy as np\n",
    "import matplotlib.pyplot as plt\n",
    "import seaborn as sns\n",
    "%matplotlib inline\n",
    "\n",
    "df_titanic = pd.read_csv('titanic-data-6.csv')"
   ]
  },
  {
   "cell_type": "markdown",
   "metadata": {},
   "source": [
    "Podemos verificar no site do Kaggle citado acima a explicação de cada atributo (coluna), reproduzida abaixo:"
   ]
  },
  {
   "cell_type": "markdown",
   "metadata": {},
   "source": [
    "| Variable | Definition | Key |\n",
    "| --- | --- | --- |\n",
    "| survival\t| Survival\t| 0 = No, 1 = Yes |\n",
    "|pclass\t|Ticket class |\t1 = 1st, 2 = 2nd, 3 = 3rd |\n",
    "|sex |\tSex |\t|\n",
    "| Age | Age in years |\t|\n",
    "|sibsp | # of siblings / spouses aboard the Titanic| |\t\n",
    "| parch\t| # of parents / children aboard the Titanic | |\t\n",
    "| ticket | Ticket number |\t|\n",
    "|fare |\tPassenger fare| |\t\n",
    "|cabin | Cabin number | |\t\n",
    "| embarked | Port of Embarkation| C = Cherbourg, Q = Queenstown, S = Southampton|"
   ]
  },
  {
   "cell_type": "markdown",
   "metadata": {},
   "source": [
    "Além disso, o site dá algumas notas explicativas: "
   ]
  },
  {
   "cell_type": "markdown",
   "metadata": {},
   "source": [
    "**pclass**: A proxy for socio-economic status (SES)\n",
    "1st = Upper\n",
    "2nd = Middle\n",
    "3rd = Lower\n",
    "\n",
    "**age**: Age is fractional if less than 1. If the age is estimated, is it in the form of xx.5\n",
    "\n",
    "**sibsp**: The dataset defines family relations in this way...\n",
    "\n",
    "Sibling = brother, sister, stepbrother, stepsister\n",
    "Spouse = husband, wife (mistresses and fiancés were ignored)\n",
    "\n",
    "**parch**: The dataset defines family relations in this way...\n",
    "\n",
    "Parent = mother, father\n",
    "Child = daughter, son, stepdaughter, stepson\n",
    "\n",
    "Some children travelled only with a nanny, therefore parch=0 for them."
   ]
  },
  {
   "cell_type": "markdown",
   "metadata": {},
   "source": [
    "Percebe-se que as variáveis `pclass`, `survived` e `embarked` são categóricas e usam as \"chaves\" descritas na tebela anterior. Vamos ter uma visão geral das colunas, dos tipos de dados e das estatísticas básicas:"
   ]
  },
  {
   "cell_type": "code",
   "execution_count": 2,
   "metadata": {},
   "outputs": [
    {
     "data": {
      "text/html": [
       "<div>\n",
       "<style>\n",
       "    .dataframe thead tr:only-child th {\n",
       "        text-align: right;\n",
       "    }\n",
       "\n",
       "    .dataframe thead th {\n",
       "        text-align: left;\n",
       "    }\n",
       "\n",
       "    .dataframe tbody tr th {\n",
       "        vertical-align: top;\n",
       "    }\n",
       "</style>\n",
       "<table border=\"1\" class=\"dataframe\">\n",
       "  <thead>\n",
       "    <tr style=\"text-align: right;\">\n",
       "      <th></th>\n",
       "      <th>PassengerId</th>\n",
       "      <th>Survived</th>\n",
       "      <th>Pclass</th>\n",
       "      <th>Name</th>\n",
       "      <th>Sex</th>\n",
       "      <th>Age</th>\n",
       "      <th>SibSp</th>\n",
       "      <th>Parch</th>\n",
       "      <th>Ticket</th>\n",
       "      <th>Fare</th>\n",
       "      <th>Cabin</th>\n",
       "      <th>Embarked</th>\n",
       "    </tr>\n",
       "  </thead>\n",
       "  <tbody>\n",
       "    <tr>\n",
       "      <th>0</th>\n",
       "      <td>1</td>\n",
       "      <td>0</td>\n",
       "      <td>3</td>\n",
       "      <td>Braund, Mr. Owen Harris</td>\n",
       "      <td>male</td>\n",
       "      <td>22.0</td>\n",
       "      <td>1</td>\n",
       "      <td>0</td>\n",
       "      <td>A/5 21171</td>\n",
       "      <td>7.2500</td>\n",
       "      <td>NaN</td>\n",
       "      <td>S</td>\n",
       "    </tr>\n",
       "    <tr>\n",
       "      <th>1</th>\n",
       "      <td>2</td>\n",
       "      <td>1</td>\n",
       "      <td>1</td>\n",
       "      <td>Cumings, Mrs. John Bradley (Florence Briggs Th...</td>\n",
       "      <td>female</td>\n",
       "      <td>38.0</td>\n",
       "      <td>1</td>\n",
       "      <td>0</td>\n",
       "      <td>PC 17599</td>\n",
       "      <td>71.2833</td>\n",
       "      <td>C85</td>\n",
       "      <td>C</td>\n",
       "    </tr>\n",
       "    <tr>\n",
       "      <th>2</th>\n",
       "      <td>3</td>\n",
       "      <td>1</td>\n",
       "      <td>3</td>\n",
       "      <td>Heikkinen, Miss. Laina</td>\n",
       "      <td>female</td>\n",
       "      <td>26.0</td>\n",
       "      <td>0</td>\n",
       "      <td>0</td>\n",
       "      <td>STON/O2. 3101282</td>\n",
       "      <td>7.9250</td>\n",
       "      <td>NaN</td>\n",
       "      <td>S</td>\n",
       "    </tr>\n",
       "    <tr>\n",
       "      <th>3</th>\n",
       "      <td>4</td>\n",
       "      <td>1</td>\n",
       "      <td>1</td>\n",
       "      <td>Futrelle, Mrs. Jacques Heath (Lily May Peel)</td>\n",
       "      <td>female</td>\n",
       "      <td>35.0</td>\n",
       "      <td>1</td>\n",
       "      <td>0</td>\n",
       "      <td>113803</td>\n",
       "      <td>53.1000</td>\n",
       "      <td>C123</td>\n",
       "      <td>S</td>\n",
       "    </tr>\n",
       "    <tr>\n",
       "      <th>4</th>\n",
       "      <td>5</td>\n",
       "      <td>0</td>\n",
       "      <td>3</td>\n",
       "      <td>Allen, Mr. William Henry</td>\n",
       "      <td>male</td>\n",
       "      <td>35.0</td>\n",
       "      <td>0</td>\n",
       "      <td>0</td>\n",
       "      <td>373450</td>\n",
       "      <td>8.0500</td>\n",
       "      <td>NaN</td>\n",
       "      <td>S</td>\n",
       "    </tr>\n",
       "  </tbody>\n",
       "</table>\n",
       "</div>"
      ],
      "text/plain": [
       "   PassengerId  Survived  Pclass  \\\n",
       "0            1         0       3   \n",
       "1            2         1       1   \n",
       "2            3         1       3   \n",
       "3            4         1       1   \n",
       "4            5         0       3   \n",
       "\n",
       "                                                Name     Sex   Age  SibSp  \\\n",
       "0                            Braund, Mr. Owen Harris    male  22.0      1   \n",
       "1  Cumings, Mrs. John Bradley (Florence Briggs Th...  female  38.0      1   \n",
       "2                             Heikkinen, Miss. Laina  female  26.0      0   \n",
       "3       Futrelle, Mrs. Jacques Heath (Lily May Peel)  female  35.0      1   \n",
       "4                           Allen, Mr. William Henry    male  35.0      0   \n",
       "\n",
       "   Parch            Ticket     Fare Cabin Embarked  \n",
       "0      0         A/5 21171   7.2500   NaN        S  \n",
       "1      0          PC 17599  71.2833   C85        C  \n",
       "2      0  STON/O2. 3101282   7.9250   NaN        S  \n",
       "3      0            113803  53.1000  C123        S  \n",
       "4      0            373450   8.0500   NaN        S  "
      ]
     },
     "execution_count": 2,
     "metadata": {},
     "output_type": "execute_result"
    }
   ],
   "source": [
    "df_titanic.head()"
   ]
  },
  {
   "cell_type": "markdown",
   "metadata": {},
   "source": [
    "Aqui, nota-se a presença de algumas variáveis adicionais: 'PassengerId' (índice de referência do passageiro) e 'Name' (nome do passageiro). "
   ]
  },
  {
   "cell_type": "markdown",
   "metadata": {},
   "source": [
    "# 2. *Brainstorming* de Perguntas "
   ]
  },
  {
   "cell_type": "markdown",
   "metadata": {
    "collapsed": true
   },
   "source": [
    "### 1. Quais fatores tem maior correlação com a propensão de algumas pessoas sobreviverem? Quais variáveis são dependentes e quais são independentes? \n",
    "### 2. Sobrevivência, sexo e idade\n",
    "    2.1 Qual sexo teve maior fração de sobreviventes em relação ao total da amostra?\n",
    "    2.2 Observando a distribuição de idades e propondo categorias de idade (ex: jovens, adultos e idosos), podemos entender como cada uma delas sobreviveu em relação às demais?\n",
    "    2.3 Combinando as categorias criadas acima e as diferenças de sexo, podemos identificar qual categoria de idade e sexo mais teve \"êxito\" na sobrevivência? Há alguma explicação plausível para esse resultado?\n",
    "### 3. Sobrevivência e classe social (avaliada pela proxy \"ticket class\")\n",
    "    3.1 Dentre os sobreviventes, qual classe social teve maior \"êxito\"? E qual teve o pior?\n",
    "    3.2 Qual a resposta da pergunta acima para os não-sobreviventes?\n",
    "    3.3 As respostas das duas perguntas anteriores são plausíveis, dadas as separações físicas das classes no Titanic? \n",
    "    3.4 Qual sexo é \"dominante\" em cada classe de sobreviventes?\n",
    "    3.5 Qual a média de preço paga por cada classe?\n",
    "### 4. Sobrevivência e família\n",
    "    4.1 O fato de certas pessoas terem a bordo mais parentes (de qualquer tipo) influenciou na sobrevivência das mesmas?\n",
    "### 5. Sobrevivência e Local de Embarque\n",
    "    5.1 Quantos são os sobreviventes por local de embarque? Esse fator parece ter alguma relação _de fato_ com a propensão de uma pessoa sobreviver? \n",
    "### 6. Baseando-se nas análises anteriores em conjunto com a primeira questão, quais foram os fatores que fizeram com que algumas pessoas fossem mais propensas a sobreviver?"
   ]
  },
  {
   "cell_type": "markdown",
   "metadata": {},
   "source": [
    "# 3. Limpeza dos Dados "
   ]
  },
  {
   "cell_type": "markdown",
   "metadata": {},
   "source": [
    "Vamos investigar os dados para encontrar formas de \"limpá-lo\":"
   ]
  },
  {
   "cell_type": "markdown",
   "metadata": {},
   "source": [
    "### Valores Nulos e Atributos Relevantes"
   ]
  },
  {
   "cell_type": "markdown",
   "metadata": {},
   "source": [
    "Vejamos que atributos possuem valores faltantes e as respectivas quantidades:"
   ]
  },
  {
   "cell_type": "code",
   "execution_count": 3,
   "metadata": {},
   "outputs": [
    {
     "data": {
      "text/plain": [
       "PassengerId      0\n",
       "Survived         0\n",
       "Pclass           0\n",
       "Name             0\n",
       "Sex              0\n",
       "Age            177\n",
       "SibSp            0\n",
       "Parch            0\n",
       "Ticket           0\n",
       "Fare             0\n",
       "Cabin          687\n",
       "Embarked         2\n",
       "dtype: int64"
      ]
     },
     "execution_count": 3,
     "metadata": {},
     "output_type": "execute_result"
    }
   ],
   "source": [
    "df_titanic.isnull().sum()"
   ]
  },
  {
   "cell_type": "markdown",
   "metadata": {},
   "source": [
    "Aqui notamos dados faltantes para `Age`, `Embarked` e `Cabin`. Para a nossa análise (a partir das perguntas levantadas no tópico 2), percebe-se que a informação de cabines não é relevante (já temos a informação de tipo de classe de cabine em `Pclass`). Quanto à idade e cidade de embarque, são variáveis pertinentes à análise, portanto quando formos lidar com elas, teremos que tomar apenas os valores não nulos. \n",
    "\n",
    "Além disso, o atributo `PassengerId` não é relevante, posto que é idêntico ao próprio `index` do DataFrame. O atributo `Ticket` também não é relevante, pois as principais informações que poderíamos tirar da passagem de cada pessoa já são dadas pelo preço pago (`Fare`) e tipo de classe de viagem (`Pclass`). Por fim, `Name` também não é relevante, pois é (em tese) um valor único para cada pessoa e portanto não comparáveis (já temos outros dados que são comparáveis). Assim, vamos descartar as colunas irrelevantes para nossa análise (para evitar dúvidas, vamos primeiro verificar se não há duas pessoas com o mesmo nome, usando o método any() e vendo se é `False`):"
   ]
  },
  {
   "cell_type": "code",
   "execution_count": 4,
   "metadata": {},
   "outputs": [
    {
     "data": {
      "text/plain": [
       "False"
      ]
     },
     "execution_count": 4,
     "metadata": {},
     "output_type": "execute_result"
    }
   ],
   "source": [
    "df_titanic.duplicated().any()"
   ]
  },
  {
   "cell_type": "code",
   "execution_count": 5,
   "metadata": {
    "collapsed": true
   },
   "outputs": [],
   "source": [
    "df_titanic.drop(['PassengerId', 'Cabin', 'Ticket', 'Name'], axis=1, inplace = True)"
   ]
  },
  {
   "cell_type": "markdown",
   "metadata": {},
   "source": [
    "Vejamos o resultado:"
   ]
  },
  {
   "cell_type": "code",
   "execution_count": 6,
   "metadata": {},
   "outputs": [
    {
     "data": {
      "text/html": [
       "<div>\n",
       "<style>\n",
       "    .dataframe thead tr:only-child th {\n",
       "        text-align: right;\n",
       "    }\n",
       "\n",
       "    .dataframe thead th {\n",
       "        text-align: left;\n",
       "    }\n",
       "\n",
       "    .dataframe tbody tr th {\n",
       "        vertical-align: top;\n",
       "    }\n",
       "</style>\n",
       "<table border=\"1\" class=\"dataframe\">\n",
       "  <thead>\n",
       "    <tr style=\"text-align: right;\">\n",
       "      <th></th>\n",
       "      <th>Survived</th>\n",
       "      <th>Pclass</th>\n",
       "      <th>Sex</th>\n",
       "      <th>Age</th>\n",
       "      <th>SibSp</th>\n",
       "      <th>Parch</th>\n",
       "      <th>Fare</th>\n",
       "      <th>Embarked</th>\n",
       "    </tr>\n",
       "  </thead>\n",
       "  <tbody>\n",
       "    <tr>\n",
       "      <th>0</th>\n",
       "      <td>0</td>\n",
       "      <td>3</td>\n",
       "      <td>male</td>\n",
       "      <td>22.0</td>\n",
       "      <td>1</td>\n",
       "      <td>0</td>\n",
       "      <td>7.2500</td>\n",
       "      <td>S</td>\n",
       "    </tr>\n",
       "    <tr>\n",
       "      <th>1</th>\n",
       "      <td>1</td>\n",
       "      <td>1</td>\n",
       "      <td>female</td>\n",
       "      <td>38.0</td>\n",
       "      <td>1</td>\n",
       "      <td>0</td>\n",
       "      <td>71.2833</td>\n",
       "      <td>C</td>\n",
       "    </tr>\n",
       "    <tr>\n",
       "      <th>2</th>\n",
       "      <td>1</td>\n",
       "      <td>3</td>\n",
       "      <td>female</td>\n",
       "      <td>26.0</td>\n",
       "      <td>0</td>\n",
       "      <td>0</td>\n",
       "      <td>7.9250</td>\n",
       "      <td>S</td>\n",
       "    </tr>\n",
       "    <tr>\n",
       "      <th>3</th>\n",
       "      <td>1</td>\n",
       "      <td>1</td>\n",
       "      <td>female</td>\n",
       "      <td>35.0</td>\n",
       "      <td>1</td>\n",
       "      <td>0</td>\n",
       "      <td>53.1000</td>\n",
       "      <td>S</td>\n",
       "    </tr>\n",
       "    <tr>\n",
       "      <th>4</th>\n",
       "      <td>0</td>\n",
       "      <td>3</td>\n",
       "      <td>male</td>\n",
       "      <td>35.0</td>\n",
       "      <td>0</td>\n",
       "      <td>0</td>\n",
       "      <td>8.0500</td>\n",
       "      <td>S</td>\n",
       "    </tr>\n",
       "  </tbody>\n",
       "</table>\n",
       "</div>"
      ],
      "text/plain": [
       "   Survived  Pclass     Sex   Age  SibSp  Parch     Fare Embarked\n",
       "0         0       3    male  22.0      1      0   7.2500        S\n",
       "1         1       1  female  38.0      1      0  71.2833        C\n",
       "2         1       3  female  26.0      0      0   7.9250        S\n",
       "3         1       1  female  35.0      1      0  53.1000        S\n",
       "4         0       3    male  35.0      0      0   8.0500        S"
      ]
     },
     "execution_count": 6,
     "metadata": {},
     "output_type": "execute_result"
    }
   ],
   "source": [
    "df_titanic.head()"
   ]
  },
  {
   "cell_type": "markdown",
   "metadata": {},
   "source": [
    "Temos um dataframe apenas com as colunas de interessse para a análise."
   ]
  },
  {
   "cell_type": "markdown",
   "metadata": {},
   "source": [
    "### Valores Duplicados"
   ]
  },
  {
   "cell_type": "markdown",
   "metadata": {},
   "source": [
    "Na célula [21] notamos que não há nenhuma linha duplicada."
   ]
  },
  {
   "cell_type": "markdown",
   "metadata": {},
   "source": [
    "### Adequação de Tipos de Dados"
   ]
  },
  {
   "cell_type": "code",
   "execution_count": 7,
   "metadata": {},
   "outputs": [
    {
     "name": "stdout",
     "output_type": "stream",
     "text": [
      "<class 'pandas.core.frame.DataFrame'>\n",
      "RangeIndex: 891 entries, 0 to 890\n",
      "Data columns (total 8 columns):\n",
      "Survived    891 non-null int64\n",
      "Pclass      891 non-null int64\n",
      "Sex         891 non-null object\n",
      "Age         714 non-null float64\n",
      "SibSp       891 non-null int64\n",
      "Parch       891 non-null int64\n",
      "Fare        891 non-null float64\n",
      "Embarked    889 non-null object\n",
      "dtypes: float64(2), int64(4), object(2)\n",
      "memory usage: 55.8+ KB\n"
     ]
    }
   ],
   "source": [
    "df_titanic.info()"
   ]
  },
  {
   "cell_type": "code",
   "execution_count": 8,
   "metadata": {},
   "outputs": [
    {
     "data": {
      "text/html": [
       "<div>\n",
       "<style>\n",
       "    .dataframe thead tr:only-child th {\n",
       "        text-align: right;\n",
       "    }\n",
       "\n",
       "    .dataframe thead th {\n",
       "        text-align: left;\n",
       "    }\n",
       "\n",
       "    .dataframe tbody tr th {\n",
       "        vertical-align: top;\n",
       "    }\n",
       "</style>\n",
       "<table border=\"1\" class=\"dataframe\">\n",
       "  <thead>\n",
       "    <tr style=\"text-align: right;\">\n",
       "      <th></th>\n",
       "      <th>Survived</th>\n",
       "      <th>Pclass</th>\n",
       "      <th>Sex</th>\n",
       "      <th>Age</th>\n",
       "      <th>SibSp</th>\n",
       "      <th>Parch</th>\n",
       "      <th>Fare</th>\n",
       "      <th>Embarked</th>\n",
       "    </tr>\n",
       "  </thead>\n",
       "  <tbody>\n",
       "    <tr>\n",
       "      <th>0</th>\n",
       "      <td>0</td>\n",
       "      <td>3</td>\n",
       "      <td>male</td>\n",
       "      <td>22.0</td>\n",
       "      <td>1</td>\n",
       "      <td>0</td>\n",
       "      <td>7.2500</td>\n",
       "      <td>S</td>\n",
       "    </tr>\n",
       "    <tr>\n",
       "      <th>1</th>\n",
       "      <td>1</td>\n",
       "      <td>1</td>\n",
       "      <td>female</td>\n",
       "      <td>38.0</td>\n",
       "      <td>1</td>\n",
       "      <td>0</td>\n",
       "      <td>71.2833</td>\n",
       "      <td>C</td>\n",
       "    </tr>\n",
       "    <tr>\n",
       "      <th>2</th>\n",
       "      <td>1</td>\n",
       "      <td>3</td>\n",
       "      <td>female</td>\n",
       "      <td>26.0</td>\n",
       "      <td>0</td>\n",
       "      <td>0</td>\n",
       "      <td>7.9250</td>\n",
       "      <td>S</td>\n",
       "    </tr>\n",
       "    <tr>\n",
       "      <th>3</th>\n",
       "      <td>1</td>\n",
       "      <td>1</td>\n",
       "      <td>female</td>\n",
       "      <td>35.0</td>\n",
       "      <td>1</td>\n",
       "      <td>0</td>\n",
       "      <td>53.1000</td>\n",
       "      <td>S</td>\n",
       "    </tr>\n",
       "    <tr>\n",
       "      <th>4</th>\n",
       "      <td>0</td>\n",
       "      <td>3</td>\n",
       "      <td>male</td>\n",
       "      <td>35.0</td>\n",
       "      <td>0</td>\n",
       "      <td>0</td>\n",
       "      <td>8.0500</td>\n",
       "      <td>S</td>\n",
       "    </tr>\n",
       "    <tr>\n",
       "      <th>5</th>\n",
       "      <td>0</td>\n",
       "      <td>3</td>\n",
       "      <td>male</td>\n",
       "      <td>NaN</td>\n",
       "      <td>0</td>\n",
       "      <td>0</td>\n",
       "      <td>8.4583</td>\n",
       "      <td>Q</td>\n",
       "    </tr>\n",
       "    <tr>\n",
       "      <th>6</th>\n",
       "      <td>0</td>\n",
       "      <td>1</td>\n",
       "      <td>male</td>\n",
       "      <td>54.0</td>\n",
       "      <td>0</td>\n",
       "      <td>0</td>\n",
       "      <td>51.8625</td>\n",
       "      <td>S</td>\n",
       "    </tr>\n",
       "    <tr>\n",
       "      <th>7</th>\n",
       "      <td>0</td>\n",
       "      <td>3</td>\n",
       "      <td>male</td>\n",
       "      <td>2.0</td>\n",
       "      <td>3</td>\n",
       "      <td>1</td>\n",
       "      <td>21.0750</td>\n",
       "      <td>S</td>\n",
       "    </tr>\n",
       "    <tr>\n",
       "      <th>8</th>\n",
       "      <td>1</td>\n",
       "      <td>3</td>\n",
       "      <td>female</td>\n",
       "      <td>27.0</td>\n",
       "      <td>0</td>\n",
       "      <td>2</td>\n",
       "      <td>11.1333</td>\n",
       "      <td>S</td>\n",
       "    </tr>\n",
       "    <tr>\n",
       "      <th>9</th>\n",
       "      <td>1</td>\n",
       "      <td>2</td>\n",
       "      <td>female</td>\n",
       "      <td>14.0</td>\n",
       "      <td>1</td>\n",
       "      <td>0</td>\n",
       "      <td>30.0708</td>\n",
       "      <td>C</td>\n",
       "    </tr>\n",
       "  </tbody>\n",
       "</table>\n",
       "</div>"
      ],
      "text/plain": [
       "   Survived  Pclass     Sex   Age  SibSp  Parch     Fare Embarked\n",
       "0         0       3    male  22.0      1      0   7.2500        S\n",
       "1         1       1  female  38.0      1      0  71.2833        C\n",
       "2         1       3  female  26.0      0      0   7.9250        S\n",
       "3         1       1  female  35.0      1      0  53.1000        S\n",
       "4         0       3    male  35.0      0      0   8.0500        S\n",
       "5         0       3    male   NaN      0      0   8.4583        Q\n",
       "6         0       1    male  54.0      0      0  51.8625        S\n",
       "7         0       3    male   2.0      3      1  21.0750        S\n",
       "8         1       3  female  27.0      0      2  11.1333        S\n",
       "9         1       2  female  14.0      1      0  30.0708        C"
      ]
     },
     "execution_count": 8,
     "metadata": {},
     "output_type": "execute_result"
    }
   ],
   "source": [
    "df_titanic.head(10)"
   ]
  },
  {
   "cell_type": "markdown",
   "metadata": {},
   "source": [
    "Pelos tipos de dados mostrados acima e olhando exemplos de linhas, todos os atributos tem tipo de dados coerente, não sendo necessário nenhuma mudança de tipo."
   ]
  },
  {
   "cell_type": "markdown",
   "metadata": {},
   "source": [
    "### Simplificando as labels das colunas "
   ]
  },
  {
   "cell_type": "markdown",
   "metadata": {},
   "source": [
    "Vamos tornar as labels minúsculas e substituir espaços por _underscores_"
   ]
  },
  {
   "cell_type": "code",
   "execution_count": 9,
   "metadata": {
    "collapsed": true
   },
   "outputs": [],
   "source": [
    "df_titanic.rename(columns = lambda s: s.strip().lower(), inplace = True)"
   ]
  },
  {
   "cell_type": "markdown",
   "metadata": {},
   "source": [
    "Vejamos o resultado:"
   ]
  },
  {
   "cell_type": "code",
   "execution_count": 10,
   "metadata": {},
   "outputs": [
    {
     "data": {
      "text/html": [
       "<div>\n",
       "<style>\n",
       "    .dataframe thead tr:only-child th {\n",
       "        text-align: right;\n",
       "    }\n",
       "\n",
       "    .dataframe thead th {\n",
       "        text-align: left;\n",
       "    }\n",
       "\n",
       "    .dataframe tbody tr th {\n",
       "        vertical-align: top;\n",
       "    }\n",
       "</style>\n",
       "<table border=\"1\" class=\"dataframe\">\n",
       "  <thead>\n",
       "    <tr style=\"text-align: right;\">\n",
       "      <th></th>\n",
       "      <th>survived</th>\n",
       "      <th>pclass</th>\n",
       "      <th>sex</th>\n",
       "      <th>age</th>\n",
       "      <th>sibsp</th>\n",
       "      <th>parch</th>\n",
       "      <th>fare</th>\n",
       "      <th>embarked</th>\n",
       "    </tr>\n",
       "  </thead>\n",
       "  <tbody>\n",
       "    <tr>\n",
       "      <th>0</th>\n",
       "      <td>0</td>\n",
       "      <td>3</td>\n",
       "      <td>male</td>\n",
       "      <td>22.0</td>\n",
       "      <td>1</td>\n",
       "      <td>0</td>\n",
       "      <td>7.2500</td>\n",
       "      <td>S</td>\n",
       "    </tr>\n",
       "    <tr>\n",
       "      <th>1</th>\n",
       "      <td>1</td>\n",
       "      <td>1</td>\n",
       "      <td>female</td>\n",
       "      <td>38.0</td>\n",
       "      <td>1</td>\n",
       "      <td>0</td>\n",
       "      <td>71.2833</td>\n",
       "      <td>C</td>\n",
       "    </tr>\n",
       "    <tr>\n",
       "      <th>2</th>\n",
       "      <td>1</td>\n",
       "      <td>3</td>\n",
       "      <td>female</td>\n",
       "      <td>26.0</td>\n",
       "      <td>0</td>\n",
       "      <td>0</td>\n",
       "      <td>7.9250</td>\n",
       "      <td>S</td>\n",
       "    </tr>\n",
       "    <tr>\n",
       "      <th>3</th>\n",
       "      <td>1</td>\n",
       "      <td>1</td>\n",
       "      <td>female</td>\n",
       "      <td>35.0</td>\n",
       "      <td>1</td>\n",
       "      <td>0</td>\n",
       "      <td>53.1000</td>\n",
       "      <td>S</td>\n",
       "    </tr>\n",
       "    <tr>\n",
       "      <th>4</th>\n",
       "      <td>0</td>\n",
       "      <td>3</td>\n",
       "      <td>male</td>\n",
       "      <td>35.0</td>\n",
       "      <td>0</td>\n",
       "      <td>0</td>\n",
       "      <td>8.0500</td>\n",
       "      <td>S</td>\n",
       "    </tr>\n",
       "  </tbody>\n",
       "</table>\n",
       "</div>"
      ],
      "text/plain": [
       "   survived  pclass     sex   age  sibsp  parch     fare embarked\n",
       "0         0       3    male  22.0      1      0   7.2500        S\n",
       "1         1       1  female  38.0      1      0  71.2833        C\n",
       "2         1       3  female  26.0      0      0   7.9250        S\n",
       "3         1       1  female  35.0      1      0  53.1000        S\n",
       "4         0       3    male  35.0      0      0   8.0500        S"
      ]
     },
     "execution_count": 10,
     "metadata": {},
     "output_type": "execute_result"
    }
   ],
   "source": [
    "df_titanic.head()"
   ]
  },
  {
   "cell_type": "markdown",
   "metadata": {},
   "source": [
    "Pronto! Chegamos a um dataframe menor em colunas (891 linhas e 8 colunas) e simplificado para responder às perguntas propostas. Vamos, por último, confirmar que não \"perdemos\" nenhuma linha e contar as colunas com as quais vamos trabalhar:"
   ]
  },
  {
   "cell_type": "code",
   "execution_count": 11,
   "metadata": {},
   "outputs": [
    {
     "data": {
      "text/plain": [
       "(891, 8)"
      ]
     },
     "execution_count": 11,
     "metadata": {},
     "output_type": "execute_result"
    }
   ],
   "source": [
    "df_titanic.shape"
   ]
  },
  {
   "cell_type": "markdown",
   "metadata": {},
   "source": [
    "De fato, mantivemos as 891 pessoas da amostra."
   ]
  },
  {
   "cell_type": "markdown",
   "metadata": {},
   "source": [
    "# 4. Exploração dos Dados "
   ]
  },
  {
   "cell_type": "markdown",
   "metadata": {},
   "source": [
    "Vamos seguir a divisão de perguntas propostas no tópico 3:"
   ]
  },
  {
   "cell_type": "markdown",
   "metadata": {},
   "source": [
    "### P1. Quais fatores tem maior correlação com a propensão de algumas pessoas sobreviverem? Quais variáveis são dependentes e quais são independentes?"
   ]
  },
  {
   "cell_type": "code",
   "execution_count": 12,
   "metadata": {},
   "outputs": [
    {
     "data": {
      "image/png": "[encoded data removed]",
      "text/plain": [
       "<Figure size 1080x1080 with 36 Axes>"
      ]
     },
     "metadata": {},
     "output_type": "display_data"
    }
   ],
   "source": [
    "pd.plotting.scatter_matrix(df_titanic, figsize = (15,15));"
   ]
  },
  {
   "cell_type": "code",
   "execution_count": 13,
   "metadata": {},
   "outputs": [
    {
     "data": {
      "text/html": [
       "<div>\n",
       "<style>\n",
       "    .dataframe thead tr:only-child th {\n",
       "        text-align: right;\n",
       "    }\n",
       "\n",
       "    .dataframe thead th {\n",
       "        text-align: left;\n",
       "    }\n",
       "\n",
       "    .dataframe tbody tr th {\n",
       "        vertical-align: top;\n",
       "    }\n",
       "</style>\n",
       "<table border=\"1\" class=\"dataframe\">\n",
       "  <thead>\n",
       "    <tr style=\"text-align: right;\">\n",
       "      <th></th>\n",
       "      <th>survived</th>\n",
       "      <th>pclass</th>\n",
       "      <th>age</th>\n",
       "      <th>sibsp</th>\n",
       "      <th>parch</th>\n",
       "      <th>fare</th>\n",
       "    </tr>\n",
       "  </thead>\n",
       "  <tbody>\n",
       "    <tr>\n",
       "      <th>survived</th>\n",
       "      <td>1.000000</td>\n",
       "      <td>-0.338481</td>\n",
       "      <td>-0.077221</td>\n",
       "      <td>-0.035322</td>\n",
       "      <td>0.081629</td>\n",
       "      <td>0.257307</td>\n",
       "    </tr>\n",
       "    <tr>\n",
       "      <th>pclass</th>\n",
       "      <td>-0.338481</td>\n",
       "      <td>1.000000</td>\n",
       "      <td>-0.369226</td>\n",
       "      <td>0.083081</td>\n",
       "      <td>0.018443</td>\n",
       "      <td>-0.549500</td>\n",
       "    </tr>\n",
       "    <tr>\n",
       "      <th>age</th>\n",
       "      <td>-0.077221</td>\n",
       "      <td>-0.369226</td>\n",
       "      <td>1.000000</td>\n",
       "      <td>-0.308247</td>\n",
       "      <td>-0.189119</td>\n",
       "      <td>0.096067</td>\n",
       "    </tr>\n",
       "    <tr>\n",
       "      <th>sibsp</th>\n",
       "      <td>-0.035322</td>\n",
       "      <td>0.083081</td>\n",
       "      <td>-0.308247</td>\n",
       "      <td>1.000000</td>\n",
       "      <td>0.414838</td>\n",
       "      <td>0.159651</td>\n",
       "    </tr>\n",
       "    <tr>\n",
       "      <th>parch</th>\n",
       "      <td>0.081629</td>\n",
       "      <td>0.018443</td>\n",
       "      <td>-0.189119</td>\n",
       "      <td>0.414838</td>\n",
       "      <td>1.000000</td>\n",
       "      <td>0.216225</td>\n",
       "    </tr>\n",
       "    <tr>\n",
       "      <th>fare</th>\n",
       "      <td>0.257307</td>\n",
       "      <td>-0.549500</td>\n",
       "      <td>0.096067</td>\n",
       "      <td>0.159651</td>\n",
       "      <td>0.216225</td>\n",
       "      <td>1.000000</td>\n",
       "    </tr>\n",
       "  </tbody>\n",
       "</table>\n",
       "</div>"
      ],
      "text/plain": [
       "          survived    pclass       age     sibsp     parch      fare\n",
       "survived  1.000000 -0.338481 -0.077221 -0.035322  0.081629  0.257307\n",
       "pclass   -0.338481  1.000000 -0.369226  0.083081  0.018443 -0.549500\n",
       "age      -0.077221 -0.369226  1.000000 -0.308247 -0.189119  0.096067\n",
       "sibsp    -0.035322  0.083081 -0.308247  1.000000  0.414838  0.159651\n",
       "parch     0.081629  0.018443 -0.189119  0.414838  1.000000  0.216225\n",
       "fare      0.257307 -0.549500  0.096067  0.159651  0.216225  1.000000"
      ]
     },
     "execution_count": 13,
     "metadata": {},
     "output_type": "execute_result"
    }
   ],
   "source": [
    "df_titanic.corr()"
   ]
  },
  {
   "cell_type": "markdown",
   "metadata": {},
   "source": [
    "Na nossa análise, a variável que pode ser interpretada como _dependente_ é a `survived`, pois estamos buscando fatores que tenham maior influência (e correlação) na propensão à sobrevivência das pessoas embarcadas no Titanic. Assim, as demais variáveis são, nesta análise, _independentes_ a priori. Observando a matriz de correlação (plotada e numérica) acima, notamos que os fatores de maior influência sobre a sobrevivência (valor de correlação mais próximo de 1) são:"
   ]
  },
  {
   "cell_type": "markdown",
   "metadata": {},
   "source": [
    "a) `pclass`: correlação negativa\n",
    "\n",
    "Isso significa que quanto maior o valor da variável `pclass` (de `1` a `3`, ou seja, da 1ª Classe para a 3ª Classe), menor seria a variável `survived`. Mesmo esta sendo uma variável binária, poderiamos, a grosso modo, interpretar essa relação negativa como uma maior chance de não sobreviver, ou seja, de se ter `survived = 0`. \n",
    "\n",
    "Embora a análise apenas com correlação seja muito preliminar e não conclusiva, isso faz bastante sentido, pois no Titanic a primeira classe ficava em decks superiores às segunda e terceira classes, aumentando as chances dos passageiros de primeira classe conseguirem fugir. A figura a seguir mostra a distribuição das classes no Titanic (retirados dos links a seguir): "
   ]
  },
  {
   "cell_type": "markdown",
   "metadata": {},
   "source": [
    "[\"Enciclopédia\" do Titanic: Perfil do Navio](https://www.encyclopedia-titanica.org/titanic-deckplans/profile.html)\n",
    "\n",
    "[\"Enciclopédia\" do Titanic: Class and Gender\"](https://www.encyclopedia-titanica.org/class-gender-titanic-disaster-1912~chapter-2.html)\n"
   ]
  },
  {
   "cell_type": "markdown",
   "metadata": {},
   "source": [
    "<img src=\"figure-one-side-view-l.jpeg\">"
   ]
  },
  {
   "cell_type": "markdown",
   "metadata": {},
   "source": [
    "b) `fare`:   correlação positiva\n",
    "\n",
    "Aqui teríamos uma interpretação de que tarifas de viagem mais altas levam a maiores valores de `survived`, ou seja, maior seria a propensão à sobrevivência. Isso faz sentido pois usualmente as maiores tarifas ocorrem para a primeira classe, e isso também é confirmado pela considerável correlação negativa entre `pclass` e `fare` (lembrando que quanto maior `pclass`, pior a classe, ou seja há correlação _positiva_ entre tarifa e SES).\n",
    "\n",
    "Entretanto, ainda é preciso avaliar melhor os dados para tirar conclusões mais sólidas, principalmente porque `survived` é uma variável binária."
   ]
  },
  {
   "cell_type": "markdown",
   "metadata": {},
   "source": [
    "### P2. Sobrevivência, sexo e idade\n",
    "   #### P2.1 Qual sexo teve maior fração de sobreviventes em relação ao total da amostra?\n",
    "   "
   ]
  },
  {
   "cell_type": "markdown",
   "metadata": {},
   "source": [
    "Vamos criar um subconjunto (dataframe) onde só existem sobreviventes (`survived = 1`)"
   ]
  },
  {
   "cell_type": "code",
   "execution_count": 14,
   "metadata": {
    "collapsed": true
   },
   "outputs": [],
   "source": [
    "df_titanic_surv = df_titanic.query('survived == 1')"
   ]
  },
  {
   "cell_type": "code",
   "execution_count": 15,
   "metadata": {},
   "outputs": [
    {
     "data": {
      "text/html": [
       "<div>\n",
       "<style>\n",
       "    .dataframe thead tr:only-child th {\n",
       "        text-align: right;\n",
       "    }\n",
       "\n",
       "    .dataframe thead th {\n",
       "        text-align: left;\n",
       "    }\n",
       "\n",
       "    .dataframe tbody tr th {\n",
       "        vertical-align: top;\n",
       "    }\n",
       "</style>\n",
       "<table border=\"1\" class=\"dataframe\">\n",
       "  <thead>\n",
       "    <tr style=\"text-align: right;\">\n",
       "      <th></th>\n",
       "      <th>survived</th>\n",
       "      <th>pclass</th>\n",
       "      <th>age</th>\n",
       "      <th>sibsp</th>\n",
       "      <th>parch</th>\n",
       "      <th>fare</th>\n",
       "      <th>embarked</th>\n",
       "    </tr>\n",
       "    <tr>\n",
       "      <th>sex</th>\n",
       "      <th></th>\n",
       "      <th></th>\n",
       "      <th></th>\n",
       "      <th></th>\n",
       "      <th></th>\n",
       "      <th></th>\n",
       "      <th></th>\n",
       "    </tr>\n",
       "  </thead>\n",
       "  <tbody>\n",
       "    <tr>\n",
       "      <th>female</th>\n",
       "      <td>233</td>\n",
       "      <td>233</td>\n",
       "      <td>197</td>\n",
       "      <td>233</td>\n",
       "      <td>233</td>\n",
       "      <td>233</td>\n",
       "      <td>231</td>\n",
       "    </tr>\n",
       "    <tr>\n",
       "      <th>male</th>\n",
       "      <td>109</td>\n",
       "      <td>109</td>\n",
       "      <td>93</td>\n",
       "      <td>109</td>\n",
       "      <td>109</td>\n",
       "      <td>109</td>\n",
       "      <td>109</td>\n",
       "    </tr>\n",
       "  </tbody>\n",
       "</table>\n",
       "</div>"
      ],
      "text/plain": [
       "        survived  pclass  age  sibsp  parch  fare  embarked\n",
       "sex                                                        \n",
       "female       233     233  197    233    233   233       231\n",
       "male         109     109   93    109    109   109       109"
      ]
     },
     "execution_count": 15,
     "metadata": {},
     "output_type": "execute_result"
    }
   ],
   "source": [
    "df_titanic_surv.groupby('sex').agg('count')"
   ]
  },
  {
   "cell_type": "markdown",
   "metadata": {},
   "source": [
    "Notamos que só existem dois valores para `sex`: \"female\" e \"male\". Vamos obter as frações e plotar:"
   ]
  },
  {
   "cell_type": "code",
   "execution_count": 16,
   "metadata": {},
   "outputs": [
    {
     "data": {
      "text/plain": [
       "233.0"
      ]
     },
     "execution_count": 16,
     "metadata": {},
     "output_type": "execute_result"
    }
   ],
   "source": [
    "float(df_titanic_surv.query('sex == \"female\"')['sex'].value_counts())"
   ]
  },
  {
   "cell_type": "code",
   "execution_count": 17,
   "metadata": {
    "collapsed": true
   },
   "outputs": [],
   "source": [
    "frac_males = 100/(float(df_titanic_surv.query('sex == \"female\"')['sex'].value_counts())/float(df_titanic_surv.query('sex == \"male\"')['sex'].value_counts())+1)\n",
    "frac_females = 100 - frac_males\n",
    "sex_fractions = [frac_males, frac_females]"
   ]
  },
  {
   "cell_type": "code",
   "execution_count": 18,
   "metadata": {},
   "outputs": [
    {
     "data": {
      "text/plain": [
       "float"
      ]
     },
     "execution_count": 18,
     "metadata": {},
     "output_type": "execute_result"
    }
   ],
   "source": [
    "type(frac_males)"
   ]
  },
  {
   "cell_type": "code",
   "execution_count": 19,
   "metadata": {},
   "outputs": [
    {
     "name": "stdout",
     "output_type": "stream",
     "text": [
      "Assim, as porcentagens de sobreviventes por sexo são:\n",
      "31.87 Homens\n",
      "68.13 Mulheres\n"
     ]
    }
   ],
   "source": [
    "print(\"Assim, as porcentagens de sobreviventes por sexo são:\\n{:2.2f} Homens\\n{:2.2f} Mulheres\".format(frac_males, frac_females))"
   ]
  },
  {
   "cell_type": "markdown",
   "metadata": {},
   "source": [
    "Vamos plotar os dados anteriores em um gráfico de barras:"
   ]
  },
  {
   "cell_type": "code",
   "execution_count": 20,
   "metadata": {},
   "outputs": [
    {
     "data": {
      "image/png": "[encoded data removed]",
      "text/plain": [
       "<Figure size 432x288 with 1 Axes>"
      ]
     },
     "metadata": {},
     "output_type": "display_data"
    }
   ],
   "source": [
    "x_types = ['Homens', 'Mulheres']\n",
    "x_positions = list(range(len(x_types))) \n",
    "plt.bar(x_positions, sex_fractions)\n",
    "plt.xlabel('Sexo')\n",
    "plt.ylabel('Porcentagem (%)')\n",
    "plt.xticks(x_positions, x_types)\n",
    "plt.title('Fração de Sobreviventes por Sexo');\n"
   ]
  },
  {
   "cell_type": "markdown",
   "metadata": {},
   "source": [
    "Logo, o sexo feminino teve maior parcela entre os sobreviventes, alcançando quase 70% de representação."
   ]
  },
  {
   "cell_type": "markdown",
   "metadata": {},
   "source": [
    "#### P2.2 Observando a distribuição de idades e propondo categorias de idade (ex: jovens, adultos e idosos), podemos entender como cada uma delas sobreviveu em relação às demais?"
   ]
  },
  {
   "cell_type": "markdown",
   "metadata": {},
   "source": [
    "Anteriormente, notamos que para `age` existem valores faltantes. Por isso, precisamos avaliar, nesta e na próxima pergunta, um dataframe sem essas linhas."
   ]
  },
  {
   "cell_type": "code",
   "execution_count": 21,
   "metadata": {
    "collapsed": true
   },
   "outputs": [],
   "source": [
    "df_titanic_with_ages = df_titanic_surv[pd.notnull(df_titanic_surv['age'])]"
   ]
  },
  {
   "cell_type": "code",
   "execution_count": 22,
   "metadata": {},
   "outputs": [
    {
     "data": {
      "text/plain": [
       "False"
      ]
     },
     "execution_count": 22,
     "metadata": {},
     "output_type": "execute_result"
    }
   ],
   "source": [
    "df_titanic_with_ages['age'].isnull().any()"
   ]
  },
  {
   "cell_type": "code",
   "execution_count": 23,
   "metadata": {},
   "outputs": [
    {
     "name": "stdout",
     "output_type": "stream",
     "text": [
      "<class 'pandas.core.frame.DataFrame'>\n",
      "Int64Index: 290 entries, 1 to 889\n",
      "Data columns (total 8 columns):\n",
      "survived    290 non-null int64\n",
      "pclass      290 non-null int64\n",
      "sex         290 non-null object\n",
      "age         290 non-null float64\n",
      "sibsp       290 non-null int64\n",
      "parch       290 non-null int64\n",
      "fare        290 non-null float64\n",
      "embarked    288 non-null object\n",
      "dtypes: float64(2), int64(4), object(2)\n",
      "memory usage: 20.4+ KB\n"
     ]
    }
   ],
   "source": [
    "df_titanic_with_ages.info()"
   ]
  },
  {
   "cell_type": "markdown",
   "metadata": {},
   "source": [
    "Vamos começar observando o histograma de idades:"
   ]
  },
  {
   "cell_type": "code",
   "execution_count": 87,
   "metadata": {},
   "outputs": [
    {
     "data": {
      "image/png": "[encoded data removed]",
      "text/plain": [
       "<Figure size 432x288 with 1 Axes>"
      ]
     },
     "metadata": {},
     "output_type": "display_data"
    }
   ],
   "source": [
    "df_titanic_with_ages.hist(column = 'age')\n",
    "plt.xlabel('Idade')\n",
    "plt.ylabel('Frequência')\n",
    "plt.title('Histograma de Idade dos Sobreviventes');"
   ]
  },
  {
   "cell_type": "markdown",
   "metadata": {},
   "source": [
    "Notamos que é uma distribuição distorcida para à direita mas com um outro pico entre as crianças mais novas (0 a 10 anos), com média em cerca de 25 anos. Vamos criar três categorias: `menores` (0 a 18 anos), `adultos` (18 a 60 anos) e `idosos` (acima de 60 anos). Vamos usar o método `cut()` do pandas e criar uma nova coluna:"
   ]
  },
  {
   "cell_type": "code",
   "execution_count": 25,
   "metadata": {
    "collapsed": true
   },
   "outputs": [],
   "source": [
    "bins = [0,18, 60,max(df_titanic_surv['age'])]\n",
    "age_labels = ['minor', 'adult', 'elder']\n",
    "column_agegroup = pd.cut(df_titanic_with_ages['age'], bins, labels = age_labels)\n",
    "#df_titanic_with_ages.loc[:, 'age_group'] = pd.cut(df_titanic_with_ages['age'], bins, labels = age_labels)\n"
   ]
  },
  {
   "cell_type": "code",
   "execution_count": 26,
   "metadata": {
    "collapsed": true
   },
   "outputs": [],
   "source": [
    "df_titanic_with_ages = df_titanic_with_ages.assign(age_group = column_agegroup)"
   ]
  },
  {
   "cell_type": "markdown",
   "metadata": {},
   "source": [
    "Vejamos para alguma linha o valor de `age_group` foi nulo (devido a erros):"
   ]
  },
  {
   "cell_type": "code",
   "execution_count": 27,
   "metadata": {},
   "outputs": [
    {
     "data": {
      "text/plain": [
       "False"
      ]
     },
     "execution_count": 27,
     "metadata": {},
     "output_type": "execute_result"
    }
   ],
   "source": [
    "df_titanic_with_ages['age_group'].isnull().any()"
   ]
  },
  {
   "cell_type": "markdown",
   "metadata": {},
   "source": [
    "Perfeito, todos os valores são não nulos. Vamos observar o aspecto desta nova coluna, agrupar por categorias dela e plotar:"
   ]
  },
  {
   "cell_type": "code",
   "execution_count": 28,
   "metadata": {},
   "outputs": [
    {
     "data": {
      "text/html": [
       "<div>\n",
       "<style>\n",
       "    .dataframe thead tr:only-child th {\n",
       "        text-align: right;\n",
       "    }\n",
       "\n",
       "    .dataframe thead th {\n",
       "        text-align: left;\n",
       "    }\n",
       "\n",
       "    .dataframe tbody tr th {\n",
       "        vertical-align: top;\n",
       "    }\n",
       "</style>\n",
       "<table border=\"1\" class=\"dataframe\">\n",
       "  <thead>\n",
       "    <tr style=\"text-align: right;\">\n",
       "      <th></th>\n",
       "      <th>survived</th>\n",
       "      <th>pclass</th>\n",
       "      <th>sex</th>\n",
       "      <th>age</th>\n",
       "      <th>sibsp</th>\n",
       "      <th>parch</th>\n",
       "      <th>fare</th>\n",
       "      <th>embarked</th>\n",
       "      <th>age_group</th>\n",
       "    </tr>\n",
       "  </thead>\n",
       "  <tbody>\n",
       "    <tr>\n",
       "      <th>1</th>\n",
       "      <td>1</td>\n",
       "      <td>1</td>\n",
       "      <td>female</td>\n",
       "      <td>38.0</td>\n",
       "      <td>1</td>\n",
       "      <td>0</td>\n",
       "      <td>71.2833</td>\n",
       "      <td>C</td>\n",
       "      <td>adult</td>\n",
       "    </tr>\n",
       "    <tr>\n",
       "      <th>2</th>\n",
       "      <td>1</td>\n",
       "      <td>3</td>\n",
       "      <td>female</td>\n",
       "      <td>26.0</td>\n",
       "      <td>0</td>\n",
       "      <td>0</td>\n",
       "      <td>7.9250</td>\n",
       "      <td>S</td>\n",
       "      <td>adult</td>\n",
       "    </tr>\n",
       "    <tr>\n",
       "      <th>3</th>\n",
       "      <td>1</td>\n",
       "      <td>1</td>\n",
       "      <td>female</td>\n",
       "      <td>35.0</td>\n",
       "      <td>1</td>\n",
       "      <td>0</td>\n",
       "      <td>53.1000</td>\n",
       "      <td>S</td>\n",
       "      <td>adult</td>\n",
       "    </tr>\n",
       "    <tr>\n",
       "      <th>8</th>\n",
       "      <td>1</td>\n",
       "      <td>3</td>\n",
       "      <td>female</td>\n",
       "      <td>27.0</td>\n",
       "      <td>0</td>\n",
       "      <td>2</td>\n",
       "      <td>11.1333</td>\n",
       "      <td>S</td>\n",
       "      <td>adult</td>\n",
       "    </tr>\n",
       "    <tr>\n",
       "      <th>9</th>\n",
       "      <td>1</td>\n",
       "      <td>2</td>\n",
       "      <td>female</td>\n",
       "      <td>14.0</td>\n",
       "      <td>1</td>\n",
       "      <td>0</td>\n",
       "      <td>30.0708</td>\n",
       "      <td>C</td>\n",
       "      <td>minor</td>\n",
       "    </tr>\n",
       "    <tr>\n",
       "      <th>10</th>\n",
       "      <td>1</td>\n",
       "      <td>3</td>\n",
       "      <td>female</td>\n",
       "      <td>4.0</td>\n",
       "      <td>1</td>\n",
       "      <td>1</td>\n",
       "      <td>16.7000</td>\n",
       "      <td>S</td>\n",
       "      <td>minor</td>\n",
       "    </tr>\n",
       "    <tr>\n",
       "      <th>11</th>\n",
       "      <td>1</td>\n",
       "      <td>1</td>\n",
       "      <td>female</td>\n",
       "      <td>58.0</td>\n",
       "      <td>0</td>\n",
       "      <td>0</td>\n",
       "      <td>26.5500</td>\n",
       "      <td>S</td>\n",
       "      <td>adult</td>\n",
       "    </tr>\n",
       "    <tr>\n",
       "      <th>15</th>\n",
       "      <td>1</td>\n",
       "      <td>2</td>\n",
       "      <td>female</td>\n",
       "      <td>55.0</td>\n",
       "      <td>0</td>\n",
       "      <td>0</td>\n",
       "      <td>16.0000</td>\n",
       "      <td>S</td>\n",
       "      <td>adult</td>\n",
       "    </tr>\n",
       "    <tr>\n",
       "      <th>21</th>\n",
       "      <td>1</td>\n",
       "      <td>2</td>\n",
       "      <td>male</td>\n",
       "      <td>34.0</td>\n",
       "      <td>0</td>\n",
       "      <td>0</td>\n",
       "      <td>13.0000</td>\n",
       "      <td>S</td>\n",
       "      <td>adult</td>\n",
       "    </tr>\n",
       "    <tr>\n",
       "      <th>22</th>\n",
       "      <td>1</td>\n",
       "      <td>3</td>\n",
       "      <td>female</td>\n",
       "      <td>15.0</td>\n",
       "      <td>0</td>\n",
       "      <td>0</td>\n",
       "      <td>8.0292</td>\n",
       "      <td>Q</td>\n",
       "      <td>minor</td>\n",
       "    </tr>\n",
       "    <tr>\n",
       "      <th>23</th>\n",
       "      <td>1</td>\n",
       "      <td>1</td>\n",
       "      <td>male</td>\n",
       "      <td>28.0</td>\n",
       "      <td>0</td>\n",
       "      <td>0</td>\n",
       "      <td>35.5000</td>\n",
       "      <td>S</td>\n",
       "      <td>adult</td>\n",
       "    </tr>\n",
       "    <tr>\n",
       "      <th>25</th>\n",
       "      <td>1</td>\n",
       "      <td>3</td>\n",
       "      <td>female</td>\n",
       "      <td>38.0</td>\n",
       "      <td>1</td>\n",
       "      <td>5</td>\n",
       "      <td>31.3875</td>\n",
       "      <td>S</td>\n",
       "      <td>adult</td>\n",
       "    </tr>\n",
       "    <tr>\n",
       "      <th>39</th>\n",
       "      <td>1</td>\n",
       "      <td>3</td>\n",
       "      <td>female</td>\n",
       "      <td>14.0</td>\n",
       "      <td>1</td>\n",
       "      <td>0</td>\n",
       "      <td>11.2417</td>\n",
       "      <td>C</td>\n",
       "      <td>minor</td>\n",
       "    </tr>\n",
       "    <tr>\n",
       "      <th>43</th>\n",
       "      <td>1</td>\n",
       "      <td>2</td>\n",
       "      <td>female</td>\n",
       "      <td>3.0</td>\n",
       "      <td>1</td>\n",
       "      <td>2</td>\n",
       "      <td>41.5792</td>\n",
       "      <td>C</td>\n",
       "      <td>minor</td>\n",
       "    </tr>\n",
       "    <tr>\n",
       "      <th>44</th>\n",
       "      <td>1</td>\n",
       "      <td>3</td>\n",
       "      <td>female</td>\n",
       "      <td>19.0</td>\n",
       "      <td>0</td>\n",
       "      <td>0</td>\n",
       "      <td>7.8792</td>\n",
       "      <td>Q</td>\n",
       "      <td>adult</td>\n",
       "    </tr>\n",
       "  </tbody>\n",
       "</table>\n",
       "</div>"
      ],
      "text/plain": [
       "    survived  pclass     sex   age  sibsp  parch     fare embarked age_group\n",
       "1          1       1  female  38.0      1      0  71.2833        C     adult\n",
       "2          1       3  female  26.0      0      0   7.9250        S     adult\n",
       "3          1       1  female  35.0      1      0  53.1000        S     adult\n",
       "8          1       3  female  27.0      0      2  11.1333        S     adult\n",
       "9          1       2  female  14.0      1      0  30.0708        C     minor\n",
       "10         1       3  female   4.0      1      1  16.7000        S     minor\n",
       "11         1       1  female  58.0      0      0  26.5500        S     adult\n",
       "15         1       2  female  55.0      0      0  16.0000        S     adult\n",
       "21         1       2    male  34.0      0      0  13.0000        S     adult\n",
       "22         1       3  female  15.0      0      0   8.0292        Q     minor\n",
       "23         1       1    male  28.0      0      0  35.5000        S     adult\n",
       "25         1       3  female  38.0      1      5  31.3875        S     adult\n",
       "39         1       3  female  14.0      1      0  11.2417        C     minor\n",
       "43         1       2  female   3.0      1      2  41.5792        C     minor\n",
       "44         1       3  female  19.0      0      0   7.8792        Q     adult"
      ]
     },
     "execution_count": 28,
     "metadata": {},
     "output_type": "execute_result"
    }
   ],
   "source": [
    "df_titanic_with_ages.head(15)"
   ]
  },
  {
   "cell_type": "code",
   "execution_count": 29,
   "metadata": {},
   "outputs": [
    {
     "data": {
      "text/html": [
       "<div>\n",
       "<style>\n",
       "    .dataframe thead tr:only-child th {\n",
       "        text-align: right;\n",
       "    }\n",
       "\n",
       "    .dataframe thead th {\n",
       "        text-align: left;\n",
       "    }\n",
       "\n",
       "    .dataframe tbody tr th {\n",
       "        vertical-align: top;\n",
       "    }\n",
       "</style>\n",
       "<table border=\"1\" class=\"dataframe\">\n",
       "  <thead>\n",
       "    <tr style=\"text-align: right;\">\n",
       "      <th></th>\n",
       "      <th>survived</th>\n",
       "      <th>pclass</th>\n",
       "      <th>sex</th>\n",
       "      <th>age</th>\n",
       "      <th>sibsp</th>\n",
       "      <th>parch</th>\n",
       "      <th>fare</th>\n",
       "      <th>embarked</th>\n",
       "    </tr>\n",
       "    <tr>\n",
       "      <th>age_group</th>\n",
       "      <th></th>\n",
       "      <th></th>\n",
       "      <th></th>\n",
       "      <th></th>\n",
       "      <th></th>\n",
       "      <th></th>\n",
       "      <th></th>\n",
       "      <th></th>\n",
       "    </tr>\n",
       "  </thead>\n",
       "  <tbody>\n",
       "    <tr>\n",
       "      <th>minor</th>\n",
       "      <td>70</td>\n",
       "      <td>70</td>\n",
       "      <td>70</td>\n",
       "      <td>70</td>\n",
       "      <td>70</td>\n",
       "      <td>70</td>\n",
       "      <td>70</td>\n",
       "      <td>70</td>\n",
       "    </tr>\n",
       "    <tr>\n",
       "      <th>adult</th>\n",
       "      <td>215</td>\n",
       "      <td>215</td>\n",
       "      <td>215</td>\n",
       "      <td>215</td>\n",
       "      <td>215</td>\n",
       "      <td>215</td>\n",
       "      <td>215</td>\n",
       "      <td>214</td>\n",
       "    </tr>\n",
       "    <tr>\n",
       "      <th>elder</th>\n",
       "      <td>5</td>\n",
       "      <td>5</td>\n",
       "      <td>5</td>\n",
       "      <td>5</td>\n",
       "      <td>5</td>\n",
       "      <td>5</td>\n",
       "      <td>5</td>\n",
       "      <td>4</td>\n",
       "    </tr>\n",
       "  </tbody>\n",
       "</table>\n",
       "</div>"
      ],
      "text/plain": [
       "           survived  pclass  sex  age  sibsp  parch  fare  embarked\n",
       "age_group                                                          \n",
       "minor            70      70   70   70     70     70    70        70\n",
       "adult           215     215  215  215    215    215   215       214\n",
       "elder             5       5    5    5      5      5     5         4"
      ]
     },
     "execution_count": 29,
     "metadata": {},
     "output_type": "execute_result"
    }
   ],
   "source": [
    "survived_by_agegroups = df_titanic_with_ages.groupby('age_group').agg('count')\n",
    "survived_by_agegroups"
   ]
  },
  {
   "cell_type": "code",
   "execution_count": 30,
   "metadata": {
    "collapsed": true
   },
   "outputs": [],
   "source": [
    "fracs = 100.* np.true_divide(survived_by_agegroups['survived'], int(survived_by_agegroups['survived'].sum()))"
   ]
  },
  {
   "cell_type": "code",
   "execution_count": 31,
   "metadata": {},
   "outputs": [
    {
     "data": {
      "image/png": "[encoded data removed]",
      "text/plain": [
       "<Figure size 432x288 with 1 Axes>"
      ]
     },
     "metadata": {},
     "output_type": "display_data"
    }
   ],
   "source": [
    "plt.pie(fracs, autopct='%1.1f%%', labels = age_labels)\n",
    "plt.title('Sobreviventes por Categoria de Idade');\n",
    "plt.axis('square');"
   ]
  },
  {
   "cell_type": "markdown",
   "metadata": {},
   "source": [
    "Portanto, notamos que a maioria dos sobreviventes eram adultos (74,4%) e que apenas 1.7% entre os sobreviventes eram idosos."
   ]
  },
  {
   "cell_type": "markdown",
   "metadata": {},
   "source": [
    "   #### P2.3 Combinando as categorias criadas acima e as diferenças de sexo, podemos identificar qual categoria de idade e sexo mais teve \"êxito\" na sobrevivência? Há alguma explicação plausível para esse resultado?"
   ]
  },
  {
   "cell_type": "markdown",
   "metadata": {},
   "source": [
    "Vamos usar `groupby()` para obter outro dataframe onde a categoria de idade e o sexo são índices, e em seguida vamos observar o aspecto do resultado:"
   ]
  },
  {
   "cell_type": "code",
   "execution_count": 32,
   "metadata": {},
   "outputs": [
    {
     "data": {
      "text/html": [
       "<div>\n",
       "<style>\n",
       "    .dataframe thead tr:only-child th {\n",
       "        text-align: right;\n",
       "    }\n",
       "\n",
       "    .dataframe thead th {\n",
       "        text-align: left;\n",
       "    }\n",
       "\n",
       "    .dataframe tbody tr th {\n",
       "        vertical-align: top;\n",
       "    }\n",
       "</style>\n",
       "<table border=\"1\" class=\"dataframe\">\n",
       "  <thead>\n",
       "    <tr style=\"text-align: right;\">\n",
       "      <th></th>\n",
       "      <th></th>\n",
       "      <th>survived</th>\n",
       "      <th>pclass</th>\n",
       "      <th>age</th>\n",
       "      <th>sibsp</th>\n",
       "      <th>parch</th>\n",
       "      <th>fare</th>\n",
       "      <th>embarked</th>\n",
       "    </tr>\n",
       "    <tr>\n",
       "      <th>age_group</th>\n",
       "      <th>sex</th>\n",
       "      <th></th>\n",
       "      <th></th>\n",
       "      <th></th>\n",
       "      <th></th>\n",
       "      <th></th>\n",
       "      <th></th>\n",
       "      <th></th>\n",
       "    </tr>\n",
       "  </thead>\n",
       "  <tbody>\n",
       "    <tr>\n",
       "      <th rowspan=\"2\" valign=\"top\">minor</th>\n",
       "      <th>female</th>\n",
       "      <td>46</td>\n",
       "      <td>46</td>\n",
       "      <td>46</td>\n",
       "      <td>46</td>\n",
       "      <td>46</td>\n",
       "      <td>46</td>\n",
       "      <td>46</td>\n",
       "    </tr>\n",
       "    <tr>\n",
       "      <th>male</th>\n",
       "      <td>24</td>\n",
       "      <td>24</td>\n",
       "      <td>24</td>\n",
       "      <td>24</td>\n",
       "      <td>24</td>\n",
       "      <td>24</td>\n",
       "      <td>24</td>\n",
       "    </tr>\n",
       "    <tr>\n",
       "      <th rowspan=\"2\" valign=\"top\">adult</th>\n",
       "      <th>female</th>\n",
       "      <td>148</td>\n",
       "      <td>148</td>\n",
       "      <td>148</td>\n",
       "      <td>148</td>\n",
       "      <td>148</td>\n",
       "      <td>148</td>\n",
       "      <td>147</td>\n",
       "    </tr>\n",
       "    <tr>\n",
       "      <th>male</th>\n",
       "      <td>67</td>\n",
       "      <td>67</td>\n",
       "      <td>67</td>\n",
       "      <td>67</td>\n",
       "      <td>67</td>\n",
       "      <td>67</td>\n",
       "      <td>67</td>\n",
       "    </tr>\n",
       "    <tr>\n",
       "      <th rowspan=\"2\" valign=\"top\">elder</th>\n",
       "      <th>female</th>\n",
       "      <td>3</td>\n",
       "      <td>3</td>\n",
       "      <td>3</td>\n",
       "      <td>3</td>\n",
       "      <td>3</td>\n",
       "      <td>3</td>\n",
       "      <td>2</td>\n",
       "    </tr>\n",
       "    <tr>\n",
       "      <th>male</th>\n",
       "      <td>2</td>\n",
       "      <td>2</td>\n",
       "      <td>2</td>\n",
       "      <td>2</td>\n",
       "      <td>2</td>\n",
       "      <td>2</td>\n",
       "      <td>2</td>\n",
       "    </tr>\n",
       "  </tbody>\n",
       "</table>\n",
       "</div>"
      ],
      "text/plain": [
       "                  survived  pclass  age  sibsp  parch  fare  embarked\n",
       "age_group sex                                                        \n",
       "minor     female        46      46   46     46     46    46        46\n",
       "          male          24      24   24     24     24    24        24\n",
       "adult     female       148     148  148    148    148   148       147\n",
       "          male          67      67   67     67     67    67        67\n",
       "elder     female         3       3    3      3      3     3         2\n",
       "          male           2       2    2      2      2     2         2"
      ]
     },
     "execution_count": 32,
     "metadata": {},
     "output_type": "execute_result"
    }
   ],
   "source": [
    "survived_by_age_sex = df_titanic_with_ages.groupby(['age_group', 'sex']).agg('count')\n",
    "survived_by_age_sex"
   ]
  },
  {
   "cell_type": "markdown",
   "metadata": {},
   "source": [
    "Agora, vamos obter alguns parâmetros úteis para plotar a composição de homens e mulheres dentro de cada grupo de idade, plotando os valores em seguida: "
   ]
  },
  {
   "cell_type": "code",
   "execution_count": 33,
   "metadata": {},
   "outputs": [
    {
     "data": {
      "text/plain": [
       "[24, 67, 2]"
      ]
     },
     "execution_count": 33,
     "metadata": {},
     "output_type": "execute_result"
    }
   ],
   "source": [
    "list(survived_by_age_sex.query('sex == \"male\"')['survived'])"
   ]
  },
  {
   "cell_type": "code",
   "execution_count": 34,
   "metadata": {},
   "outputs": [
    {
     "data": {
      "text/plain": [
       "3"
      ]
     },
     "execution_count": 34,
     "metadata": {},
     "output_type": "execute_result"
    }
   ],
   "source": [
    "len(age_labels)"
   ]
  },
  {
   "cell_type": "code",
   "execution_count": 35,
   "metadata": {},
   "outputs": [
    {
     "data": {
      "image/png": "[encoded data removed]",
      "text/plain": [
       "<Figure size 576x432 with 1 Axes>"
      ]
     },
     "metadata": {},
     "output_type": "display_data"
    }
   ],
   "source": [
    "ind = np.arange(len(age_labels))\n",
    "men_surv_by_age = list(survived_by_age_sex.query('sex == \"male\"')['survived'])\n",
    "women_surv_by_age = list(survived_by_age_sex.query('sex == \"female\"')['survived'])\n",
    "width = 0.35\n",
    "\n",
    "plt.figure(figsize = (8,6));\n",
    "p1 = plt.bar(ind, men_surv_by_age, width)\n",
    "p2 = plt.bar(ind, women_surv_by_age, width, bottom=men_surv_by_age)\n",
    "\n",
    "plt.ylabel('Quantidade')\n",
    "plt.title('Sobreviventes por gênero e categoria de idade')\n",
    "plt.xticks(ind, age_labels)\n",
    "plt.yticks(np.arange(0, 230, 10))\n",
    "plt.legend((p1[0], p2[0]), ('Homens', 'Mulheres'));\n"
   ]
  },
  {
   "cell_type": "markdown",
   "metadata": {},
   "source": [
    "Portanto, nossa resposta é: entre os sobreviventes, a maior parcela é de adultos mulheres, seguidas dos adultos homens. Em seguida temos o grupo de menores de 18 anos (dentre os quais mais mulheres sobreviveram). Por fim (e como já evidenciamos no gráfico anterior), a quantidade de idosos sobreviventes é muito menor do que as outras parcelas: fato que pode ser evidenciado pela dificuldade de usar esforço físico no momento de fuga do navio e pelo fato de que os primeiros passageiros a fugirem nos barcos de fuga eram crianças e mulheres.\n",
    "\n",
    "Entretanto, algumas pesquisas pela [internet](https://www.livescience.com/19694-women-children-titanic-sinking.html) levam a crer que esse comportamento da tripulação (de determinar a prioridade de mulheres e crianças) não era a regra em outros afundamentos de navios. "
   ]
  },
  {
   "cell_type": "markdown",
   "metadata": {},
   "source": [
    "### 3. Sobrevivência e classe social (avaliada pela proxy \"ticket class\")\n"
   ]
  },
  {
   "cell_type": "markdown",
   "metadata": {},
   "source": [
    "   #### P3.1 Dentre os sobreviventes, qual classe social teve maior \"êxito\"? E qual teve o pior?"
   ]
  },
  {
   "cell_type": "markdown",
   "metadata": {},
   "source": [
    "Relembrando o método `groupby` sobre o já obtido dataframe de sobreviventes:"
   ]
  },
  {
   "cell_type": "code",
   "execution_count": 36,
   "metadata": {},
   "outputs": [
    {
     "data": {
      "text/html": [
       "<div>\n",
       "<style>\n",
       "    .dataframe thead tr:only-child th {\n",
       "        text-align: right;\n",
       "    }\n",
       "\n",
       "    .dataframe thead th {\n",
       "        text-align: left;\n",
       "    }\n",
       "\n",
       "    .dataframe tbody tr th {\n",
       "        vertical-align: top;\n",
       "    }\n",
       "</style>\n",
       "<table border=\"1\" class=\"dataframe\">\n",
       "  <thead>\n",
       "    <tr style=\"text-align: right;\">\n",
       "      <th></th>\n",
       "      <th>survived</th>\n",
       "      <th>sex</th>\n",
       "      <th>age</th>\n",
       "      <th>sibsp</th>\n",
       "      <th>parch</th>\n",
       "      <th>fare</th>\n",
       "      <th>embarked</th>\n",
       "    </tr>\n",
       "    <tr>\n",
       "      <th>pclass</th>\n",
       "      <th></th>\n",
       "      <th></th>\n",
       "      <th></th>\n",
       "      <th></th>\n",
       "      <th></th>\n",
       "      <th></th>\n",
       "      <th></th>\n",
       "    </tr>\n",
       "  </thead>\n",
       "  <tbody>\n",
       "    <tr>\n",
       "      <th>1</th>\n",
       "      <td>136</td>\n",
       "      <td>136</td>\n",
       "      <td>122</td>\n",
       "      <td>136</td>\n",
       "      <td>136</td>\n",
       "      <td>136</td>\n",
       "      <td>134</td>\n",
       "    </tr>\n",
       "    <tr>\n",
       "      <th>2</th>\n",
       "      <td>87</td>\n",
       "      <td>87</td>\n",
       "      <td>83</td>\n",
       "      <td>87</td>\n",
       "      <td>87</td>\n",
       "      <td>87</td>\n",
       "      <td>87</td>\n",
       "    </tr>\n",
       "    <tr>\n",
       "      <th>3</th>\n",
       "      <td>119</td>\n",
       "      <td>119</td>\n",
       "      <td>85</td>\n",
       "      <td>119</td>\n",
       "      <td>119</td>\n",
       "      <td>119</td>\n",
       "      <td>119</td>\n",
       "    </tr>\n",
       "  </tbody>\n",
       "</table>\n",
       "</div>"
      ],
      "text/plain": [
       "        survived  sex  age  sibsp  parch  fare  embarked\n",
       "pclass                                                  \n",
       "1            136  136  122    136    136   136       134\n",
       "2             87   87   83     87     87    87        87\n",
       "3            119  119   85    119    119   119       119"
      ]
     },
     "execution_count": 36,
     "metadata": {},
     "output_type": "execute_result"
    }
   ],
   "source": [
    "df_titanic_surv.groupby('pclass').agg('count')"
   ]
  },
  {
   "cell_type": "code",
   "execution_count": 37,
   "metadata": {},
   "outputs": [
    {
     "data": {
      "text/plain": [
       "pclass\n",
       "1    39.766082\n",
       "2    25.438596\n",
       "3    34.795322\n",
       "Name: survived, dtype: float64"
      ]
     },
     "execution_count": 37,
     "metadata": {},
     "output_type": "execute_result"
    }
   ],
   "source": [
    "surv_by_class = df_titanic_surv.groupby('pclass').agg('count')['survived']\n",
    "surv_by_class_fracs = 100.*np.true_divide(surv_by_class, sum(surv_by_class))\n",
    "surv_by_class_fracs"
   ]
  },
  {
   "cell_type": "markdown",
   "metadata": {},
   "source": [
    "Notamos que entre os sobreviventes 39,8% eram da primeira classe, parcela bem próxima da fração de sobreviventes que estavam na 3ª classe (34,8%)."
   ]
  },
  {
   "cell_type": "markdown",
   "metadata": {},
   "source": [
    "   #### P3.2 Qual a resposta da pergunta acima para os não-sobreviventes?"
   ]
  },
  {
   "cell_type": "markdown",
   "metadata": {},
   "source": [
    "Vamos obter um dataframe apenas com os que faleceram na tragédia e agrupar em quantidade por classe:"
   ]
  },
  {
   "cell_type": "code",
   "execution_count": 38,
   "metadata": {
    "collapsed": true
   },
   "outputs": [],
   "source": [
    "df_titanic_notsurv = df_titanic.query('survived == 0')"
   ]
  },
  {
   "cell_type": "code",
   "execution_count": 39,
   "metadata": {},
   "outputs": [
    {
     "data": {
      "text/html": [
       "<div>\n",
       "<style>\n",
       "    .dataframe thead tr:only-child th {\n",
       "        text-align: right;\n",
       "    }\n",
       "\n",
       "    .dataframe thead th {\n",
       "        text-align: left;\n",
       "    }\n",
       "\n",
       "    .dataframe tbody tr th {\n",
       "        vertical-align: top;\n",
       "    }\n",
       "</style>\n",
       "<table border=\"1\" class=\"dataframe\">\n",
       "  <thead>\n",
       "    <tr style=\"text-align: right;\">\n",
       "      <th></th>\n",
       "      <th>survived</th>\n",
       "      <th>sex</th>\n",
       "      <th>age</th>\n",
       "      <th>sibsp</th>\n",
       "      <th>parch</th>\n",
       "      <th>fare</th>\n",
       "      <th>embarked</th>\n",
       "    </tr>\n",
       "    <tr>\n",
       "      <th>pclass</th>\n",
       "      <th></th>\n",
       "      <th></th>\n",
       "      <th></th>\n",
       "      <th></th>\n",
       "      <th></th>\n",
       "      <th></th>\n",
       "      <th></th>\n",
       "    </tr>\n",
       "  </thead>\n",
       "  <tbody>\n",
       "    <tr>\n",
       "      <th>1</th>\n",
       "      <td>80</td>\n",
       "      <td>80</td>\n",
       "      <td>64</td>\n",
       "      <td>80</td>\n",
       "      <td>80</td>\n",
       "      <td>80</td>\n",
       "      <td>80</td>\n",
       "    </tr>\n",
       "    <tr>\n",
       "      <th>2</th>\n",
       "      <td>97</td>\n",
       "      <td>97</td>\n",
       "      <td>90</td>\n",
       "      <td>97</td>\n",
       "      <td>97</td>\n",
       "      <td>97</td>\n",
       "      <td>97</td>\n",
       "    </tr>\n",
       "    <tr>\n",
       "      <th>3</th>\n",
       "      <td>372</td>\n",
       "      <td>372</td>\n",
       "      <td>270</td>\n",
       "      <td>372</td>\n",
       "      <td>372</td>\n",
       "      <td>372</td>\n",
       "      <td>372</td>\n",
       "    </tr>\n",
       "  </tbody>\n",
       "</table>\n",
       "</div>"
      ],
      "text/plain": [
       "        survived  sex  age  sibsp  parch  fare  embarked\n",
       "pclass                                                  \n",
       "1             80   80   64     80     80    80        80\n",
       "2             97   97   90     97     97    97        97\n",
       "3            372  372  270    372    372   372       372"
      ]
     },
     "execution_count": 39,
     "metadata": {},
     "output_type": "execute_result"
    }
   ],
   "source": [
    "df_titanic_notsurv.groupby('pclass').agg('count')"
   ]
  },
  {
   "cell_type": "code",
   "execution_count": 40,
   "metadata": {},
   "outputs": [
    {
     "data": {
      "text/plain": [
       "pclass\n",
       "1    14.571949\n",
       "2    17.668488\n",
       "3    67.759563\n",
       "Name: survived, dtype: float64"
      ]
     },
     "execution_count": 40,
     "metadata": {},
     "output_type": "execute_result"
    }
   ],
   "source": [
    "notsurv_by_class = df_titanic_notsurv.groupby('pclass').agg('count')['survived']\n",
    "notsurv_by_class_fracs = 100.*np.true_divide(notsurv_by_class, sum(notsurv_by_class))\n",
    "notsurv_by_class_fracs"
   ]
  },
  {
   "cell_type": "markdown",
   "metadata": {},
   "source": [
    "Aqui notamos que, entre os não sobreviventes, 67,8% eram da terceira classe, enquanto as outras duas classes tem frações bem inferiores."
   ]
  },
  {
   "cell_type": "markdown",
   "metadata": {},
   "source": [
    "   #### P3.3 As respostas das duas perguntas anteriores são plausíveis, dadas as separações físicas das classes no Titanic? "
   ]
  },
  {
   "cell_type": "markdown",
   "metadata": {},
   "source": [
    "Sim. Como ilustrado na resposta da pergunta P1, a terceira classe ficava nos decks mais inferiores do navio enquanto a primeira classe ficava nos decks mais superiores, portanto deixando-os mais próximos do acesso aos botes de fuga. Isso pode ter influenciado na quantidade de sobreviventes em cada classe."
   ]
  },
  {
   "cell_type": "markdown",
   "metadata": {},
   "source": [
    "   #### P3.4 Qual sexo é \"dominante\" em cada classe de sobreviventes?"
   ]
  },
  {
   "cell_type": "markdown",
   "metadata": {},
   "source": [
    "Basta agruparmos o dataframe dos sobreviventes por `pclass` e `sex` e agregar usando o argumento `count`:"
   ]
  },
  {
   "cell_type": "code",
   "execution_count": 41,
   "metadata": {},
   "outputs": [
    {
     "data": {
      "text/html": [
       "<div>\n",
       "<style>\n",
       "    .dataframe thead tr:only-child th {\n",
       "        text-align: right;\n",
       "    }\n",
       "\n",
       "    .dataframe thead th {\n",
       "        text-align: left;\n",
       "    }\n",
       "\n",
       "    .dataframe tbody tr th {\n",
       "        vertical-align: top;\n",
       "    }\n",
       "</style>\n",
       "<table border=\"1\" class=\"dataframe\">\n",
       "  <thead>\n",
       "    <tr style=\"text-align: right;\">\n",
       "      <th></th>\n",
       "      <th></th>\n",
       "      <th>survived</th>\n",
       "      <th>age</th>\n",
       "      <th>sibsp</th>\n",
       "      <th>parch</th>\n",
       "      <th>fare</th>\n",
       "      <th>embarked</th>\n",
       "    </tr>\n",
       "    <tr>\n",
       "      <th>pclass</th>\n",
       "      <th>sex</th>\n",
       "      <th></th>\n",
       "      <th></th>\n",
       "      <th></th>\n",
       "      <th></th>\n",
       "      <th></th>\n",
       "      <th></th>\n",
       "    </tr>\n",
       "  </thead>\n",
       "  <tbody>\n",
       "    <tr>\n",
       "      <th rowspan=\"2\" valign=\"top\">1</th>\n",
       "      <th>female</th>\n",
       "      <td>91</td>\n",
       "      <td>82</td>\n",
       "      <td>91</td>\n",
       "      <td>91</td>\n",
       "      <td>91</td>\n",
       "      <td>89</td>\n",
       "    </tr>\n",
       "    <tr>\n",
       "      <th>male</th>\n",
       "      <td>45</td>\n",
       "      <td>40</td>\n",
       "      <td>45</td>\n",
       "      <td>45</td>\n",
       "      <td>45</td>\n",
       "      <td>45</td>\n",
       "    </tr>\n",
       "    <tr>\n",
       "      <th rowspan=\"2\" valign=\"top\">2</th>\n",
       "      <th>female</th>\n",
       "      <td>70</td>\n",
       "      <td>68</td>\n",
       "      <td>70</td>\n",
       "      <td>70</td>\n",
       "      <td>70</td>\n",
       "      <td>70</td>\n",
       "    </tr>\n",
       "    <tr>\n",
       "      <th>male</th>\n",
       "      <td>17</td>\n",
       "      <td>15</td>\n",
       "      <td>17</td>\n",
       "      <td>17</td>\n",
       "      <td>17</td>\n",
       "      <td>17</td>\n",
       "    </tr>\n",
       "    <tr>\n",
       "      <th rowspan=\"2\" valign=\"top\">3</th>\n",
       "      <th>female</th>\n",
       "      <td>72</td>\n",
       "      <td>47</td>\n",
       "      <td>72</td>\n",
       "      <td>72</td>\n",
       "      <td>72</td>\n",
       "      <td>72</td>\n",
       "    </tr>\n",
       "    <tr>\n",
       "      <th>male</th>\n",
       "      <td>47</td>\n",
       "      <td>38</td>\n",
       "      <td>47</td>\n",
       "      <td>47</td>\n",
       "      <td>47</td>\n",
       "      <td>47</td>\n",
       "    </tr>\n",
       "  </tbody>\n",
       "</table>\n",
       "</div>"
      ],
      "text/plain": [
       "               survived  age  sibsp  parch  fare  embarked\n",
       "pclass sex                                                \n",
       "1      female        91   82     91     91    91        89\n",
       "       male          45   40     45     45    45        45\n",
       "2      female        70   68     70     70    70        70\n",
       "       male          17   15     17     17    17        17\n",
       "3      female        72   47     72     72    72        72\n",
       "       male          47   38     47     47    47        47"
      ]
     },
     "execution_count": 41,
     "metadata": {},
     "output_type": "execute_result"
    }
   ],
   "source": [
    "df_titanic_surv.groupby(['pclass', 'sex']).agg('count')"
   ]
  },
  {
   "cell_type": "markdown",
   "metadata": {},
   "source": [
    "O sexo dominante entre sobreviventes, em qualquer classe, é o feminino. "
   ]
  },
  {
   "cell_type": "markdown",
   "metadata": {},
   "source": [
    "   #### P3.5 Qual a média de preço paga por cada classe?"
   ]
  },
  {
   "cell_type": "markdown",
   "metadata": {},
   "source": [
    "Aqui basta agrupar novamente por `pclass` e usar `describe()` na coluna `fare` para obter as médias:"
   ]
  },
  {
   "cell_type": "code",
   "execution_count": 42,
   "metadata": {},
   "outputs": [
    {
     "data": {
      "text/html": [
       "<div>\n",
       "<style>\n",
       "    .dataframe thead tr:only-child th {\n",
       "        text-align: right;\n",
       "    }\n",
       "\n",
       "    .dataframe thead th {\n",
       "        text-align: left;\n",
       "    }\n",
       "\n",
       "    .dataframe tbody tr th {\n",
       "        vertical-align: top;\n",
       "    }\n",
       "</style>\n",
       "<table border=\"1\" class=\"dataframe\">\n",
       "  <thead>\n",
       "    <tr style=\"text-align: right;\">\n",
       "      <th></th>\n",
       "      <th>count</th>\n",
       "      <th>mean</th>\n",
       "      <th>std</th>\n",
       "      <th>min</th>\n",
       "      <th>25%</th>\n",
       "      <th>50%</th>\n",
       "      <th>75%</th>\n",
       "      <th>max</th>\n",
       "    </tr>\n",
       "    <tr>\n",
       "      <th>pclass</th>\n",
       "      <th></th>\n",
       "      <th></th>\n",
       "      <th></th>\n",
       "      <th></th>\n",
       "      <th></th>\n",
       "      <th></th>\n",
       "      <th></th>\n",
       "      <th></th>\n",
       "    </tr>\n",
       "  </thead>\n",
       "  <tbody>\n",
       "    <tr>\n",
       "      <th>1</th>\n",
       "      <td>136.0</td>\n",
       "      <td>95.608029</td>\n",
       "      <td>85.286820</td>\n",
       "      <td>25.9292</td>\n",
       "      <td>50.98545</td>\n",
       "      <td>77.9583</td>\n",
       "      <td>111.481225</td>\n",
       "      <td>512.3292</td>\n",
       "    </tr>\n",
       "    <tr>\n",
       "      <th>2</th>\n",
       "      <td>87.0</td>\n",
       "      <td>22.055700</td>\n",
       "      <td>10.853502</td>\n",
       "      <td>10.5000</td>\n",
       "      <td>13.00000</td>\n",
       "      <td>21.0000</td>\n",
       "      <td>26.250000</td>\n",
       "      <td>65.0000</td>\n",
       "    </tr>\n",
       "    <tr>\n",
       "      <th>3</th>\n",
       "      <td>119.0</td>\n",
       "      <td>13.694887</td>\n",
       "      <td>10.692993</td>\n",
       "      <td>0.0000</td>\n",
       "      <td>7.77500</td>\n",
       "      <td>8.5167</td>\n",
       "      <td>15.875000</td>\n",
       "      <td>56.4958</td>\n",
       "    </tr>\n",
       "  </tbody>\n",
       "</table>\n",
       "</div>"
      ],
      "text/plain": [
       "        count       mean        std      min       25%      50%         75%  \\\n",
       "pclass                                                                        \n",
       "1       136.0  95.608029  85.286820  25.9292  50.98545  77.9583  111.481225   \n",
       "2        87.0  22.055700  10.853502  10.5000  13.00000  21.0000   26.250000   \n",
       "3       119.0  13.694887  10.692993   0.0000   7.77500   8.5167   15.875000   \n",
       "\n",
       "             max  \n",
       "pclass            \n",
       "1       512.3292  \n",
       "2        65.0000  \n",
       "3        56.4958  "
      ]
     },
     "execution_count": 42,
     "metadata": {},
     "output_type": "execute_result"
    }
   ],
   "source": [
    "df_titanic_surv.groupby('pclass')['fare'].describe()"
   ]
  },
  {
   "cell_type": "code",
   "execution_count": 43,
   "metadata": {},
   "outputs": [
    {
     "name": "stdout",
     "output_type": "stream",
     "text": [
      "média de preço paga por cada classe:\n",
      "1ª Classe 95.61\n",
      "2ª Classe 22.06\n",
      "3ª Classe 13.69\n"
     ]
    }
   ],
   "source": [
    "fare_by_class = list(df_titanic_surv.groupby('pclass').mean()['fare'])\n",
    "print('média de preço paga por cada classe:\\n1ª Classe {:2.2f}\\n2ª Classe {:2.2f}\\n3ª Classe {:2.2f}'.format(fare_by_class[0],fare_by_class[1],fare_by_class[2]))"
   ]
  },
  {
   "cell_type": "markdown",
   "metadata": {},
   "source": [
    "Notamos, pois, que o preço médio das passagens acompanha o \"conforto\" gradual da 3ª classe para a 1ª. Por fim, notamos que na avaliação do `describe()`, anteriormente, a distribuição de preços de passagem não parecem muito concentradas, especialmente para a primeira classe, onde a maior passagem paga foi de 521.33, enquanto a menor foi de 25.93. Vejamos o histograma para este caso:"
   ]
  },
  {
   "cell_type": "code",
   "execution_count": 92,
   "metadata": {},
   "outputs": [
    {
     "data": {
      "image/png": "[encoded data removed]",
      "text/plain": [
       "<Figure size 576x432 with 1 Axes>"
      ]
     },
     "metadata": {},
     "output_type": "display_data"
    }
   ],
   "source": [
    "df_titanic_surv.query('pclass == 1').hist(column = 'fare',figsize=(8,6))\n",
    "plt.xlabel('Frequência')\n",
    "plt.ylabel('Tíquete Pago')\n",
    "plt.title('Histograma do Tíquete Pago');"
   ]
  },
  {
   "cell_type": "markdown",
   "metadata": {},
   "source": [
    "De fato, apesar da média de preço ser de 95.61, há uma certa quantidade de tarifas acima da média. Mais precisamente:"
   ]
  },
  {
   "cell_type": "code",
   "execution_count": 45,
   "metadata": {},
   "outputs": [
    {
     "name": "stdout",
     "output_type": "stream",
     "text": [
      "28.68% das passagens de primeira classe são maiores que a média\n"
     ]
    }
   ],
   "source": [
    "high_fares = df_titanic_surv.query('pclass == 1 & fare >= 95.608029').shape[0]\n",
    "print('{:2.2f}% das passagens de primeira classe são maiores que a média'.format(100*float(high_fares)/float(df_titanic_surv.query('pclass == 1').shape[0])))"
   ]
  },
  {
   "cell_type": "markdown",
   "metadata": {},
   "source": [
    "É uma quantidade considerável, de fato. "
   ]
  },
  {
   "cell_type": "markdown",
   "metadata": {},
   "source": [
    "### 4. Sobrevivência e família\n",
    "   #### 4.1 O fato de certas pessoas terem a bordo mais parentes (de qualquer tipo) influenciou na sobrevivência das mesmas?"
   ]
  },
  {
   "cell_type": "markdown",
   "metadata": {},
   "source": [
    "Vamos criar sobre o dataframe `df_titanic_surv` uma nova coluna que contabiliza o número de parentes (`sibsp`+`parch`), chamada `relatives`:"
   ]
  },
  {
   "cell_type": "code",
   "execution_count": 46,
   "metadata": {
    "collapsed": true
   },
   "outputs": [],
   "source": [
    "column_relatives = df_titanic_surv['sibsp'] + df_titanic_surv['parch']\n"
   ]
  },
  {
   "cell_type": "code",
   "execution_count": 47,
   "metadata": {
    "collapsed": true
   },
   "outputs": [],
   "source": [
    "df_titanic_surv = df_titanic_surv.assign(relatives = column_relatives)"
   ]
  },
  {
   "cell_type": "code",
   "execution_count": 48,
   "metadata": {
    "collapsed": true
   },
   "outputs": [],
   "source": [
    "df_surv_by_relatives = df_titanic_surv.groupby('relatives').agg('count')['survived']"
   ]
  },
  {
   "cell_type": "code",
   "execution_count": 49,
   "metadata": {},
   "outputs": [
    {
     "data": {
      "text/plain": [
       "relatives\n",
       "0    163\n",
       "1     89\n",
       "2     59\n",
       "3     21\n",
       "4      3\n",
       "5      3\n",
       "6      4\n",
       "Name: survived, dtype: int64"
      ]
     },
     "execution_count": 49,
     "metadata": {},
     "output_type": "execute_result"
    }
   ],
   "source": [
    "df_surv_by_relatives"
   ]
  },
  {
   "cell_type": "code",
   "execution_count": 50,
   "metadata": {},
   "outputs": [
    {
     "data": {
      "text/plain": [
       "relatives\n",
       "0    47.660819\n",
       "1    26.023392\n",
       "2    17.251462\n",
       "3     6.140351\n",
       "4     0.877193\n",
       "5     0.877193\n",
       "6     1.169591\n",
       "Name: survived, dtype: float64"
      ]
     },
     "execution_count": 50,
     "metadata": {},
     "output_type": "execute_result"
    }
   ],
   "source": [
    "total = df_surv_by_relatives.sum()\n",
    "df_surv_by_relatives = 100.*np.true_divide(df_surv_by_relatives, total)\n",
    "df_surv_by_relatives"
   ]
  },
  {
   "cell_type": "code",
   "execution_count": 51,
   "metadata": {},
   "outputs": [
    {
     "data": {
      "image/png": "[encoded data removed]",
      "text/plain": [
       "<Figure size 432x288 with 1 Axes>"
      ]
     },
     "metadata": {},
     "output_type": "display_data"
    }
   ],
   "source": [
    "n = df_surv_by_relatives.shape[0]\n",
    "x_types = list(df_surv_by_relatives.index)\n",
    "x_positions = list(range(len(x_types))) \n",
    "plt.bar(x_positions, list(df_surv_by_relatives))\n",
    "plt.xlabel('Número de Parentes')\n",
    "plt.ylabel('Porcentagem (%)')\n",
    "plt.xticks(x_positions, x_types)\n",
    "plt.title('Fração de Sobreviventes por Número de Parentes');\n"
   ]
  },
  {
   "cell_type": "markdown",
   "metadata": {},
   "source": [
    "O gráfico nos mostra que, entre os sobreviventes, quanto maior o número de parentes, menor foi a quantidade de sobreviventes. Cerca de 48% dos sobreviventes não possuíam nenhum parente a bordo (`relatives = 0`), enquanto os 52% restantes possuíam pelo menos um parente a bordo (`relatives > 0`). Isso nos evidencia uma provável propensão dos passageiros com parentes a bordo a não sobreviverem, porque ao tentar ajudar/procurar os demais parentes perderam a chance de escapar e sobreviver."
   ]
  },
  {
   "cell_type": "markdown",
   "metadata": {},
   "source": [
    "### 5. Sobrevivência e Local de Embarque\n",
    "   #### 5.1 Quantos são os sobreviventes por local de embarque? Esse fator parece ter alguma relação _de fato_ com a propensão de uma pessoa sobreviver? "
   ]
  },
  {
   "cell_type": "markdown",
   "metadata": {},
   "source": [
    "No tópico de exploração de dados, vimos que há dois dados faltantes para o atributo `embarked`. Vamos criar um dataframe sem essas duas linhas para analisar a pergunta em questão: "
   ]
  },
  {
   "cell_type": "code",
   "execution_count": 52,
   "metadata": {
    "collapsed": true
   },
   "outputs": [],
   "source": [
    "df_titanic_with_embarked = df_titanic_surv[pd.notnull(df_titanic_surv['embarked'])]"
   ]
  },
  {
   "cell_type": "code",
   "execution_count": 53,
   "metadata": {},
   "outputs": [
    {
     "data": {
      "text/plain": [
       "embarked\n",
       "C     93\n",
       "Q     30\n",
       "S    217\n",
       "Name: survived, dtype: int64"
      ]
     },
     "execution_count": 53,
     "metadata": {},
     "output_type": "execute_result"
    }
   ],
   "source": [
    "df_surv_by_embarkment = df_titanic_with_embarked.groupby('embarked').agg('count')['survived']\n",
    "df_surv_by_embarkment"
   ]
  },
  {
   "cell_type": "markdown",
   "metadata": {},
   "source": [
    "Acima temos o número de sobreviventes por local de embarque. Vamos obter os valores percentuais e plotar. Entretanto, dessa vez vamos criar uma função que plota um gráfico de barras dos valores únicos de um atributo qualquer repassado à função, para treinar a generalização:"
   ]
  },
  {
   "cell_type": "code",
   "execution_count": 54,
   "metadata": {
    "collapsed": true
   },
   "outputs": [],
   "source": [
    "def plot_label_uniquevalues_perc(dataframe, xcolumn, ycolumn, x_types, xlabel, title):\n",
    "    '''\n",
    "    Função que plota um gráfico de barras com as porcentagens de valores para um dado atributo em relação a categoria de valores únicos de outro atributo \n",
    "    Argumentos:\n",
    "        dataframe: DataFrame com o conjunto de dados\n",
    "        xcolumn: string com a label da variável para a qual se deseja definir as categorias de valores únicos\n",
    "        ycolumn: string com a label da coluna da variável de interesse, para a qual se deseja obter as frações de valores em relação às categorias\n",
    "        x_types: lista com as labels de cada categoria definida pela xcolumn\n",
    "        xlabel: string com a legenda do eixo x do gráfico\n",
    "        title: string com o título do gráfico\n",
    "    Retorna:\n",
    "        Plota um gráfico com plt.bar() das frações de valores para cada categoria definida\n",
    "    '''\n",
    "    # pegar apenas as linhas com valores não nulos para a xcolumn \n",
    "    df_with_nonnull = dataframe[pd.notnull(dataframe[xcolumn])]\n",
    "    # obter um dataframe agroupado por xcolumn com os respectivos valores observados para ycolumn \n",
    "    df_by_label_category = dataframe.groupby(xcolumn).agg('count')[ycolumn]\n",
    "    # obter o total de contagens e transformar as contagens em frações do total em porcentagem\n",
    "    total = df_by_label_category.sum()\n",
    "    df_by_label_category = 100.*np.true_divide(df_by_label_category, total)\n",
    "    \n",
    "    # plotar o gráfico\n",
    "    n = df_by_label_category.shape[0]\n",
    "    x_positions = list(range(len(x_types))) \n",
    "    plt.bar(x_positions, list(df_by_label_category))\n",
    "    plt.xlabel(xlabel)\n",
    "    plt.ylabel('Porcentagem (%)')\n",
    "    plt.xticks(x_positions, x_types)\n",
    "    plt.title(title);"
   ]
  },
  {
   "cell_type": "code",
   "execution_count": 94,
   "metadata": {},
   "outputs": [
    {
     "data": {
      "image/png": "[encoded data removed]",
      "text/plain": [
       "<Figure size 432x288 with 1 Axes>"
      ]
     },
     "metadata": {},
     "output_type": "display_data"
    }
   ],
   "source": [
    "x_types = ['Cherbourg', 'Queenstown', 'Southampton']\n",
    "xlabel = 'Ponto de Embarque'\n",
    "title = 'Fração de Sobreviventes por Local de Embarque'\n",
    "plot_label_uniquevalues_perc(df_titanic_surv, 'embarked', 'survived', x_types, xlabel, title)"
   ]
  },
  {
   "cell_type": "markdown",
   "metadata": {},
   "source": [
    "A princípio, nos parece que aqueles que embarcaram em Southampton tiveram mais sucesso entre os sobreviventes. Entretanto, não parece tão lógico que apenas o local de embarque tenha sido um fator relevante na propensão à sobrevivência. Uma possível razão para isso é que uma quantidade maior de pessoas tenham embarcado em Southampton, de forma que seja mais natural a maioria deles entre os sobreviventes. Vamos analisar isso vendo o número de passageiros por local de embarque, também em frações:"
   ]
  },
  {
   "cell_type": "code",
   "execution_count": 56,
   "metadata": {},
   "outputs": [
    {
     "data": {
      "text/html": [
       "<div>\n",
       "<style>\n",
       "    .dataframe thead tr:only-child th {\n",
       "        text-align: right;\n",
       "    }\n",
       "\n",
       "    .dataframe thead th {\n",
       "        text-align: left;\n",
       "    }\n",
       "\n",
       "    .dataframe tbody tr th {\n",
       "        vertical-align: top;\n",
       "    }\n",
       "</style>\n",
       "<table border=\"1\" class=\"dataframe\">\n",
       "  <thead>\n",
       "    <tr style=\"text-align: right;\">\n",
       "      <th></th>\n",
       "      <th>survived</th>\n",
       "      <th>pclass</th>\n",
       "      <th>sex</th>\n",
       "      <th>age</th>\n",
       "      <th>sibsp</th>\n",
       "      <th>parch</th>\n",
       "      <th>fare</th>\n",
       "    </tr>\n",
       "    <tr>\n",
       "      <th>embarked</th>\n",
       "      <th></th>\n",
       "      <th></th>\n",
       "      <th></th>\n",
       "      <th></th>\n",
       "      <th></th>\n",
       "      <th></th>\n",
       "      <th></th>\n",
       "    </tr>\n",
       "  </thead>\n",
       "  <tbody>\n",
       "    <tr>\n",
       "      <th>C</th>\n",
       "      <td>168</td>\n",
       "      <td>168</td>\n",
       "      <td>168</td>\n",
       "      <td>130</td>\n",
       "      <td>168</td>\n",
       "      <td>168</td>\n",
       "      <td>168</td>\n",
       "    </tr>\n",
       "    <tr>\n",
       "      <th>Q</th>\n",
       "      <td>77</td>\n",
       "      <td>77</td>\n",
       "      <td>77</td>\n",
       "      <td>28</td>\n",
       "      <td>77</td>\n",
       "      <td>77</td>\n",
       "      <td>77</td>\n",
       "    </tr>\n",
       "    <tr>\n",
       "      <th>S</th>\n",
       "      <td>644</td>\n",
       "      <td>644</td>\n",
       "      <td>644</td>\n",
       "      <td>554</td>\n",
       "      <td>644</td>\n",
       "      <td>644</td>\n",
       "      <td>644</td>\n",
       "    </tr>\n",
       "  </tbody>\n",
       "</table>\n",
       "</div>"
      ],
      "text/plain": [
       "          survived  pclass  sex  age  sibsp  parch  fare\n",
       "embarked                                                \n",
       "C              168     168  168  130    168    168   168\n",
       "Q               77      77   77   28     77     77    77\n",
       "S              644     644  644  554    644    644   644"
      ]
     },
     "execution_count": 56,
     "metadata": {},
     "output_type": "execute_result"
    }
   ],
   "source": [
    "df_titanic.groupby('embarked').agg('count')"
   ]
  },
  {
   "cell_type": "code",
   "execution_count": 57,
   "metadata": {},
   "outputs": [
    {
     "data": {
      "text/plain": [
       "embarked\n",
       "C    18.897638\n",
       "Q     8.661417\n",
       "S    72.440945\n",
       "Name: survived, dtype: float64"
      ]
     },
     "execution_count": 57,
     "metadata": {},
     "output_type": "execute_result"
    }
   ],
   "source": [
    "# tomar uma coluna qualquer para pegar apenas a contagem de valores\n",
    "series_by_embarked = df_titanic.groupby('embarked').agg('count')['survived']\n",
    "series_by_embarked = 100.*np.true_divide(series_by_embarked, series_by_embarked.sum())\n",
    "series_by_embarked"
   ]
  },
  {
   "cell_type": "markdown",
   "metadata": {},
   "source": [
    "De fato! Da mesma forma como cerca de 72% dos passageiros embarcaram em Southampton, seguido de cerca 19% em Cherbourg e 9% em Queenstown, as frações entre os sobreviventes obedecem cerca da mesma gradação. Ou seja, o local de embarque não indica ter tido muita relevância na propensão à sobrevivência, como pensávamos antes. As proporções não se alteraram muito."
   ]
  },
  {
   "cell_type": "markdown",
   "metadata": {},
   "source": [
    "# 5. Conclusões  "
   ]
  },
  {
   "cell_type": "markdown",
   "metadata": {},
   "source": [
    "Após toda a exploração de dados anterior, podemos levantar as conclusões mais relevantes sobre a relação dos atributos de cada passageiro/tripulante com a sua sobrevivência ou falecimento. Dentre elas, as 4 mais pertinentes são listadas a seguir:"
   ]
  },
  {
   "cell_type": "markdown",
   "metadata": {},
   "source": [
    "### Conclusão 1: O gênero feminino correspondeu a 70% dos sobreviventes do Titanic, apesar da maior propensão natural, em média, de homens a sobreviver em virtude de maior capacidade física para escapar do acidente. Uma possível razão para isso pode ter sido a priorização do acesso de mulheres aos botes salva-vidas.     "
   ]
  },
  {
   "cell_type": "markdown",
   "metadata": {},
   "source": [
    "### Conclusão 2: Quando se observa as categorias de idade e gênero, nota-se que os sobreviventes são compostos majoritariamente de adultos e crianças, sendo os idosos representados por apenas 1,7% dos sobreviventes. Ademais, as mulheres adultas e crianças correspondem a 75% dos sobreviventes, evidenciando a mesma possível razão levantada anteriormente."
   ]
  },
  {
   "cell_type": "code",
   "execution_count": 95,
   "metadata": {},
   "outputs": [
    {
     "name": "stdout",
     "output_type": "stream",
     "text": [
      "\n",
      "Fração de mulheres adultas+crianças em relação ao total de sobreviventes (com \"age\" não nula): 75.17%\n"
     ]
    }
   ],
   "source": [
    "x = int(survived_by_age_sex.query('age_group == \"adult\" & sex == \"female\"')['survived'])\n",
    "y = int(survived_by_age_sex.query('age_group == \"minor\"')['survived'].sum())\n",
    "total = survived_by_agegroups['survived'].sum()\n",
    "\n",
    "print('\\nFração de mulheres adultas+crianças em relação ao total de sobreviventes (com \"age\" não nula): {:2.2f}%'.format(100*(x+y)/total))"
   ]
  },
  {
   "cell_type": "markdown",
   "metadata": {},
   "source": [
    "### Conclusão 3: A Classe de viagem teve significativa influência na não sobrevivência de pessoas. Entre os não sobreviventes, 67,8 % viajavam na terceira classe, enquanto 14,6% e 17,7% viajavam nas primeira e segunda classe, respectivamente. Como vimos na pergunta P1, o arranjo das cabines no navio privilegiava as maiores classes, deixando a terceira classe em decks inferiores do navio, e assim dificultando a fuga desses passageiros."
   ]
  },
  {
   "cell_type": "markdown",
   "metadata": {},
   "source": [
    "### Conclusão 4: O número de parentes a bordo teve uma significativa influência na propensão à sobrevivência. Viimos que 52% dos sobreviventes estavam viajando sem nenhum parente, enquanto os 48% possuíam pelo menos um parente a bordo.  "
   ]
  },
  {
   "cell_type": "markdown",
   "metadata": {},
   "source": [
    "### Conclusão Final:"
   ]
  },
  {
   "cell_type": "markdown",
   "metadata": {},
   "source": [
    "Notamos que alguns atributos parecem ter mais influência na propensão das pessoas à sobreviverem à tragédia do Titanic, mas em todas as análises anteriores não podemos afirmar com confiança significativa que algum dos atributos causou ou determinou a sobrevivência de alguém, pois as razões de cada sobrevivência foram não apenas guiadas por muitos outros fatores que não estão no nosso banco de dados, mas também porque os fatores cruciais para sobreviver foram distintos para cada pessoa.\n",
    "\n",
    "O que podemos entender, apenas observando uma amostra do totao de sobreviventes, são as características mais comuns ao grupo e como elas se diferenciam daquelas do grupo de não sobreviventes. Podemos investigar mais a fundo sobre como poderíamos prever o resultado da sobrevivência de alguém apenas conhecendo os atributos vistos aqui, mas para isso precisaríamos construir uma análise bem mais robusta, usando regressões ou mesmo machine learning, mas não apenas análise de correlações. Por isso, nossas conclusões se limitam a descrever os resultados mais interessantes encontrados na amostra. "
   ]
  },
  {
   "cell_type": "markdown",
   "metadata": {},
   "source": [
    "# 6. Limitações"
   ]
  },
  {
   "cell_type": "markdown",
   "metadata": {},
   "source": [
    "- A amostra de 821 pessoas representa cerca de 37% do total de 1503 de mortos na tragédia. Assim, não se pode tirar alguma conclusão acerca da consistência da amostra utilizada aqui em termos de representação do total, pois não se conhece qual foi o processo de obtenção dessa amostra. Ela pode estar, por exemplo, enviesada e conter muitas mulheres entre os sobreviventes, enviesando a conclusão de que mais mulheres sobreviveram. O fato de não se conhecer o grupo completo de passageiros torna a análise limitada, pois não nos permite obter outras amostras aleatórias para corroborar nossas conclusões.\n",
    "\n",
    "\n",
    "- Neste projeto não contemplou-se muitas análises sobre os não-sobreviventes; focou-se nos sobreviventes. "
   ]
  },
  {
   "cell_type": "markdown",
   "metadata": {},
   "source": [
    "- Ao trabalharmos com a variável `age`, descartou-se as linhas paras as quais `age == 0`. Esse descarte não foi tão insignificante e pode ter impactos sobre a análise. O número de descartes foi:"
   ]
  },
  {
   "cell_type": "code",
   "execution_count": 104,
   "metadata": {},
   "outputs": [
    {
     "name": "stdout",
     "output_type": "stream",
     "text": [
      "Descartou-se 177 linhas das 821 linhas ou 21.6% do total.\n"
     ]
    }
   ],
   "source": [
    "x = df_titanic['age'].isnull().sum()\n",
    "print('Descartou-se {:d} linhas das 821 linhas ou {:.1f}% do total.'.format(x, 100*x/821))"
   ]
  },
  {
   "cell_type": "markdown",
   "metadata": {},
   "source": [
    "- A divisão de grupos de idade foi uma decisão de projeto, sendo uma limitação. A categoria `minors` poderia ser subdivida entre bebês e crianças maiores para buscar separar os primeiros, que não possuem capacidade própria de escaparem sós. A divisão em apenas 3 categorias é uma limitação da análise."
   ]
  },
  {
   "cell_type": "markdown",
   "metadata": {},
   "source": [
    "- No conjunto da amostra tivemos dados faltantes nas seguintes variáveis: `age`, `cabin` e `embarked`. A variável `cabin` não se mostrou útil, pois poderia servir de proxy para status social, mas as variáveis `pclass` e `fare` já possuem essa informação, e apenas pelas strings de `cabin` não podemos identificar classes. Isso limitou o uso desse atributo. "
   ]
  },
  {
   "cell_type": "markdown",
   "metadata": {},
   "source": [
    "- O atributo acima poderia ser utilizado caso se conhecesse, a priori, como cada cabine se posiciona no mapa do navio. Isso porque poderíamos investigar o grau de sobrevivência através de várias partes do navio para entender quais regiões tiveram maiores ou menores privilégios no momento de escapar."
   ]
  },
  {
   "cell_type": "markdown",
   "metadata": {},
   "source": [
    "- As análises feitas nesse projeto são de cunho descritivo. Uma abordagem mais profunda dos dados envolveria modelos de previsão da propensão de pressoas sobreviverem à tragédia, enquanto as medidas descritivas só ilustram como a amostra é. Esta é outra limitação que não nos permite ter alguma certeza maior sobre as conclusões levantadas aqui."
   ]
  },
  {
   "cell_type": "markdown",
   "metadata": {},
   "source": [
    "# 7. Comunicação dos Resultados"
   ]
  },
  {
   "cell_type": "markdown",
   "metadata": {
    "collapsed": true
   },
   "source": [
    "Vamos expor as conclusões acima com gráficos (alguns já obtidos anteriormente)"
   ]
  },
  {
   "cell_type": "markdown",
   "metadata": {
    "collapsed": true
   },
   "source": [
    "### Conclusão 1:  O gênero feminino correspondeu a 70% dos sobreviventes do Titanic"
   ]
  },
  {
   "cell_type": "code",
   "execution_count": 62,
   "metadata": {},
   "outputs": [
    {
     "data": {
      "image/png": "[encoded data removed]",
      "text/plain": [
       "<Figure size 432x288 with 1 Axes>"
      ]
     },
     "metadata": {},
     "output_type": "display_data"
    }
   ],
   "source": [
    "numbers_by_sex = df_titanic_surv.groupby('sex').agg('count')['survived']\n",
    "x_types = ['Homens ({})'.format(numbers_by_sex[1]), 'Mulheres ({})'.format(numbers_by_sex[0])]\n",
    "x_positions = list(range(len(x_types))) \n",
    "plt.bar(x_positions, sex_fractions)\n",
    "plt.xlabel('Sexo')\n",
    "plt.ylabel('Porcentagem (%)')\n",
    "plt.xticks(x_positions, x_types)\n",
    "plt.title('Fração de Sobreviventes por Sexo');"
   ]
  },
  {
   "cell_type": "markdown",
   "metadata": {},
   "source": [
    "O gráfico acima ilustra a porcentagem de homens e mulheres entre os sobreviventes da amostra, onde notamos que a quantidade de mulheres (233) somaram mais do que o **dobro** do número de homens (109). Isso evidencia a priorização das mulheres na alocação de pessoas nos botes salva-vidas, uma vez que caso a alocação tivesse acontecido sem qualquer \"regra\" (neste caso, priorizar mulheres), esperava-se que os homens ocupassem uma parcela maior dos sobreviventes, já que possuem mais força física em média. "
   ]
  },
  {
   "cell_type": "markdown",
   "metadata": {},
   "source": [
    "### Conclusão 2: os sobreviventes são compostos majoritariamente de adultos e crianças, sendo os idosos representados por apenas 1,7% dos sobreviventes"
   ]
  },
  {
   "cell_type": "code",
   "execution_count": 71,
   "metadata": {},
   "outputs": [
    {
     "data": {
      "image/png": "[encoded data removed]",
      "text/plain": [
       "<Figure size 432x288 with 1 Axes>"
      ]
     },
     "metadata": {},
     "output_type": "display_data"
    }
   ],
   "source": [
    "n_agegroup = survived_by_agegroups['survived']\n",
    "explode = (0.1, 0.1, 0)\n",
    "plt.pie(fracs, explode=explode, autopct='%1.1f%%', labels = ['Menores ({})'.format(n_agegroup[0]), 'Adultos ({})'.format(n_agegroup[1]), 'Idosos ({})'.format(n_agegroup[2])])\n",
    "plt.axis('equal')\n",
    "plt.title('Sobreviventes por Categoria de Idade');\n",
    "plt.show()\n"
   ]
  },
  {
   "cell_type": "markdown",
   "metadata": {},
   "source": [
    "No gráfico acima, temos um total de 290 sobreviventes, pois aqueles com idade ausente foram descartados da análise. Nota-se, de fato, que os adultos constituem quase 75% dos sobreviventes, acompanhado dos menores (com quase 25%). Os 5 idosos perfazem apenas 1,7% do total de sobreviventes, o que evidencia o fato de que o grupo de idosos (considerados aqueles com mais de 60 anos) tem muito menos capacidade física do que os adultos e crianças em geral."
   ]
  },
  {
   "cell_type": "markdown",
   "metadata": {},
   "source": [
    "### Conclusão 3: Entre os sobreviventes, a primeira classe representa cerca de 40%. Entre os não sobreviventes, 67,8 % viajavam na terceira classe, enquanto 14,6% e 17,7% viajavam nas primeira e segunda classe, respectivamente"
   ]
  },
  {
   "cell_type": "code",
   "execution_count": 64,
   "metadata": {},
   "outputs": [
    {
     "data": {
      "image/png": "[encoded data removed]",
      "text/plain": [
       "<Figure size 612x288 with 2 Axes>"
      ]
     },
     "metadata": {},
     "output_type": "display_data"
    }
   ],
   "source": [
    "plt.figure(1)\n",
    "plt.subplot(1,3,1)\n",
    "surv_by_class_fracs.plot.bar(figsize= (8.5,4))\n",
    "plt.xticks([0, 1, 2], ['1ª','2ª','3ª'])\n",
    "plt.xlabel('Classe de Viagem')\n",
    "plt.ylabel('Porcentagem (%)')\n",
    "plt.title('Sobreviventes por Classe de Viagem')\n",
    "\n",
    "plt.subplot(1,3,3)\n",
    "notsurv_by_class_fracs.plot.bar()\n",
    "plt.xticks([0, 1, 2], ['1ª','2ª','3ª'])\n",
    "plt.xlabel('Classe de Viagem')\n",
    "plt.ylabel('Porcentagem (%)')\n",
    "plt.title('Não-Sobreviventes por Classe de Viagem')\n",
    "plt.subplots_adjust(top=0.92, bottom=0.08, left=0.10, right=0.95, hspace=0.25,\n",
    "                    wspace=0.35) # referências tomadas de um link do stackoverflow (mais abaixo) para evitar sobrepor as labels"
   ]
  },
  {
   "cell_type": "markdown",
   "metadata": {},
   "source": [
    "Entre os sobreviventes, no primeiro gráfico, percebemos como a primeira classe teve maiores privilégios no momento de fuga do Titanic, constituindo 40% dos sobreviventes, sendo um deles o posicionamento das cabines dessa categoria (como mostra a figura a seguir, mencionada anteriormente). No segundo gráfico, que mostra a composição dos não-sobreviventes por classe, percebemos uma disparidade maior: a terceira classe, cujas cabines localizavam-se nos decks mais inferiores do navio, foi a mais prejudicada e representou quase 70% dos que faleceram na tragédia."
   ]
  },
  {
   "cell_type": "markdown",
   "metadata": {},
   "source": [
    "### Conclusão 4: O número de parentes a bordo teve uma significativa influência na propensão à sobrevivência. 52% dos sobreviventes estavam viajando sem nenhum parente, enquanto os 48% possuíam pelo menos um parente a bordo."
   ]
  },
  {
   "cell_type": "code",
   "execution_count": 67,
   "metadata": {},
   "outputs": [
    {
     "data": {
      "image/png": "[encoded data removed]",
      "text/plain": [
       "<Figure size 432x288 with 1 Axes>"
      ]
     },
     "metadata": {},
     "output_type": "display_data"
    }
   ],
   "source": [
    "x_types = list(range(7))\n",
    "xlabel = 'Número de Parentes'\n",
    "title = 'Sobreviventes por Número de Parentes'\n",
    "plot_label_uniquevalues_perc(df_titanic_surv, 'relatives', 'survived', x_types, xlabel, title)"
   ]
  },
  {
   "cell_type": "markdown",
   "metadata": {},
   "source": [
    "Vejamos as quantidades absolutas:"
   ]
  },
  {
   "cell_type": "code",
   "execution_count": 80,
   "metadata": {},
   "outputs": [
    {
     "data": {
      "text/plain": [
       "relatives\n",
       "0    47.660819\n",
       "1    26.023392\n",
       "2    17.251462\n",
       "3     6.140351\n",
       "4     0.877193\n",
       "5     0.877193\n",
       "6     1.169591\n",
       "Name: survived, dtype: float64"
      ]
     },
     "execution_count": 80,
     "metadata": {},
     "output_type": "execute_result"
    }
   ],
   "source": [
    "df_surv_by_relatives"
   ]
  },
  {
   "cell_type": "markdown",
   "metadata": {},
   "source": [
    "De fato, a relação inversa entre o aumento do número de parentes a bordo e a respectiva quantidade de sobreviventes é clara, evidenciando a crescente dificuldade das pessoas sobreviverem quando têm parentes a bordo, pois normalmente elas tentarão salvar algum deles e isto poderá custar suas vidas. Para aqueles com mais de 2 parentes a bordo, a quantidade de sobreviventes diminui drasticamente e perfazem apenas cerca de 9% dos sobreviventes, enquanto aqueles sem nenhum parente a bordo representam 47,7% de todos os sobreviventes da amostra. "
   ]
  },
  {
   "cell_type": "markdown",
   "metadata": {},
   "source": [
    "# 8. Referências"
   ]
  },
  {
   "cell_type": "markdown",
   "metadata": {},
   "source": [
    "https://stackoverflow.com/questions/21606987/how-can-i-strip-the-whitespace-from-pandas-dataframe-headers\n",
    "\n",
    "https://stackoverflow.com/questions/10628262/inserting-image-into-ipython-notebook-markdown\n",
    "\n",
    "https://pandas.pydata.org/pandas-docs/version/0.23/generated/pandas.DataFrame.plot.bar.html\n",
    "\n",
    "https://stackoverflow.com/questions/19384532/how-to-count-number-of-rows-per-group-and-other-statistics-in-pandas-group-by\n",
    "\n",
    "https://pandas.pydata.org/pandas-docs/version/0.23/generated/pandas.DataFrame.plot.bar.html\n",
    "\n",
    "https://stackoverflow.com/questions/37514686/how-to-plot-a-bar-graph-from-a-pandas-series\n",
    "\n",
    "https://matplotlib.org/gallery/pyplots/pyplot_scales.html#sphx-glr-gallery-pyplots-pyplot-scales-py\n",
    "\n",
    "http://pandas.pydata.org/pandas-docs/stable/generated/pandas.cut.html\n",
    "\n",
    "https://stackoverflow.com/questions/13413590/how-to-drop-rows-of-pandas-dataframe-whose-value-in-certain-columns-is-nan\n",
    "\n",
    "https://stackoverflow.com/questions/12555323/adding-new-column-to-existing-dataframe-in-python-pandas\n",
    "\n",
    "https://matplotlib.org/api/_as_gen/matplotlib.pyplot.pie.html\n",
    "\n",
    "https://matplotlib.org/gallery/lines_bars_and_markers/bar_stacked.html#sphx-glr-gallery-lines-bars-and-markers-bar-stacked-py"
   ]
  },
  {
   "cell_type": "code",
   "execution_count": null,
   "metadata": {
    "collapsed": true
   },
   "outputs": [],
   "source": []
  }
 ],
 "metadata": {
  "kernelspec": {
   "display_name": "Python 3",
   "language": "python",
   "name": "python3"
  },
  "language_info": {
   "codemirror_mode": {
    "name": "ipython",
    "version": 3
   },
   "file_extension": ".py",
   "mimetype": "text/x-python",
   "name": "python",
   "nbconvert_exporter": "python",
   "pygments_lexer": "ipython3",
   "version": "3.6.6"
  }
 },
 "nbformat": 4,
 "nbformat_minor": 2
}
